{
 "cells": [
  {
   "cell_type": "markdown",
   "id": "4e2cb4cc-a389-4243-9fe2-a0d454ff84e5",
   "metadata": {},
   "source": [
    "# LUCAS sampling fallow active agricultural areas\n",
    "The goal of the script is to create a workflow to extract candidate forest and nonforest endmemebrs across the EU, in a spatially and temporally representative manner. The output of this script is a extensive data frame of labelled points and their respective spectral bands/STMs. This data frame can then be used to identify endmebers used for subsequent synthetic mixing, training and predicting"
   ]
  },
  {
   "cell_type": "markdown",
   "id": "d7f4aa3c-19c9-4a0c-9503-1678bff1c5e2",
   "metadata": {},
   "source": [
    "### Load libraries and set file paths\n",
    "* local function collection\n",
    "* shapefile $\\rightarrow$ first for a test shapefile, later for the project files"
   ]
  },
  {
   "cell_type": "code",
   "execution_count": 1,
   "id": "401e0eb5-2e42-4392-899d-3bfd4e876c32",
   "metadata": {
    "ExecuteTime": {
     "end_time": "2023-09-07T11:13:04.924843Z",
     "start_time": "2023-09-07T11:13:04.883915Z"
    }
   },
   "outputs": [],
   "source": [
    "from osgeo import ogr, osr, gdal\n",
    "import geemap, ee\n",
    "import pandas as pd\n",
    "import json\n",
    "import numpy as np\n",
    "import matplotlib.pyplot as plt\n",
    "from tqdm import tqdm\n",
    "import math\n",
    "from scipy.stats import norm, gamma, f, chi2\n",
    "from functools import partial\n",
    "import concurrent.futures\n",
    "import pickle\n",
    "import logging\n",
    "import os\n",
    "import sys\n",
    "import warnings\n",
    "\n"
   ]
  },
  {
   "cell_type": "markdown",
   "id": "99fb7959",
   "metadata": {},
   "source": [
    "Import functions from Custom python tools helper scripts"
   ]
  },
  {
   "cell_type": "code",
   "execution_count": 2,
   "id": "21b1df2f",
   "metadata": {},
   "outputs": [
    {
     "data": {
      "text/html": [
       "\n",
       "            <style>\n",
       "                .geemap-dark {\n",
       "                    --jp-widgets-color: white;\n",
       "                    --jp-widgets-label-color: white;\n",
       "                    --jp-ui-font-color1: white;\n",
       "                    --jp-layout-color2: #454545;\n",
       "                    background-color: #383838;\n",
       "                }\n",
       "                    \n",
       "                .geemap-dark .jupyter-button {\n",
       "                    --jp-layout-color3: #383838;\n",
       "                }\n",
       "                \n",
       "                .geemap-colab {\n",
       "                    background-color: var(--colab-primary-surface-color, white);\n",
       "                }\n",
       "                    \n",
       "                .geemap-colab .jupyter-button {\n",
       "                    --jp-layout-color3: var(--colab-primary-surface-color, white);\n",
       "                }\n",
       "            </style>\n",
       "            "
      ],
      "text/plain": [
       "<IPython.core.display.HTML object>"
      ]
     },
     "metadata": {},
     "output_type": "display_data"
    }
   ],
   "source": [
    "#workPath = 'D:/OneDrive - Humboldt-Universitaet zu Berlin, CMS/uni/WS_23_24/Geopy/MAP_git'\n",
    "#workPath = \"/Users/rubenbutzer/Library/CloudStorage/OneDrive-Humboldt-UniversitaetzuBerlin,CMS/uni/WS_23_24/Geopy/MAP_git\"\n",
    "workPath = 'E:/MAP_git'"
   ]
  },
  {
   "cell_type": "code",
   "execution_count": 3,
   "id": "b9d9c2de",
   "metadata": {},
   "outputs": [
    {
     "data": {
      "text/html": [
       "\n",
       "            <style>\n",
       "                .geemap-dark {\n",
       "                    --jp-widgets-color: white;\n",
       "                    --jp-widgets-label-color: white;\n",
       "                    --jp-ui-font-color1: white;\n",
       "                    --jp-layout-color2: #454545;\n",
       "                    background-color: #383838;\n",
       "                }\n",
       "                    \n",
       "                .geemap-dark .jupyter-button {\n",
       "                    --jp-layout-color3: #383838;\n",
       "                }\n",
       "                \n",
       "                .geemap-colab {\n",
       "                    background-color: var(--colab-primary-surface-color, white);\n",
       "                }\n",
       "                    \n",
       "                .geemap-colab .jupyter-button {\n",
       "                    --jp-layout-color3: var(--colab-primary-surface-color, white);\n",
       "                }\n",
       "            </style>\n",
       "            "
      ],
      "text/plain": [
       "<IPython.core.display.HTML object>"
      ]
     },
     "metadata": {},
     "output_type": "display_data"
    }
   ],
   "source": [
    "sys.path.append(workPath)\n",
    "from tools import *\n",
    "from tools_schnesha import *\n",
    "from tools_butzerru import *"
   ]
  },
  {
   "cell_type": "code",
   "execution_count": 4,
   "id": "4cc01774-264a-4d87-9c02-ecfa9fa9b7ec",
   "metadata": {
    "ExecuteTime": {
     "end_time": "2023-09-07T11:13:36.983959Z",
     "start_time": "2023-09-07T11:13:06.792328Z"
    }
   },
   "outputs": [
    {
     "data": {
      "text/html": [
       "\n",
       "            <style>\n",
       "                .geemap-dark {\n",
       "                    --jp-widgets-color: white;\n",
       "                    --jp-widgets-label-color: white;\n",
       "                    --jp-ui-font-color1: white;\n",
       "                    --jp-layout-color2: #454545;\n",
       "                    background-color: #383838;\n",
       "                }\n",
       "                    \n",
       "                .geemap-dark .jupyter-button {\n",
       "                    --jp-layout-color3: #383838;\n",
       "                }\n",
       "                \n",
       "                .geemap-colab {\n",
       "                    background-color: var(--colab-primary-surface-color, white);\n",
       "                }\n",
       "                    \n",
       "                .geemap-colab .jupyter-button {\n",
       "                    --jp-layout-color3: var(--colab-primary-surface-color, white);\n",
       "                }\n",
       "            </style>\n",
       "            "
      ],
      "text/plain": [
       "<IPython.core.display.HTML object>"
      ]
     },
     "metadata": {},
     "output_type": "display_data"
    }
   ],
   "source": [
    "try:\n",
    "    ee.Initialize()\n",
    "except Exception as e:\n",
    "    ee.Authenticate()\n",
    "    ee.Initialize()"
   ]
  },
  {
   "cell_type": "markdown",
   "id": "379e34e9-adb4-49c4-bd56-7d10abaf2fff",
   "metadata": {},
   "source": [
    "### Open a map object that we populate"
   ]
  },
  {
   "cell_type": "code",
   "execution_count": 6,
   "id": "22e0ce9f-fd93-4dac-9641-7528f1fb6b9f",
   "metadata": {
    "ExecuteTime": {
     "end_time": "2023-09-07T11:47:27.557155Z",
     "start_time": "2023-09-07T11:47:26.607765Z"
    }
   },
   "outputs": [
    {
     "data": {
      "text/html": [
       "\n",
       "            <style>\n",
       "                .geemap-dark {\n",
       "                    --jp-widgets-color: white;\n",
       "                    --jp-widgets-label-color: white;\n",
       "                    --jp-ui-font-color1: white;\n",
       "                    --jp-layout-color2: #454545;\n",
       "                    background-color: #383838;\n",
       "                }\n",
       "                    \n",
       "                .geemap-dark .jupyter-button {\n",
       "                    --jp-layout-color3: #383838;\n",
       "                }\n",
       "                \n",
       "                .geemap-colab {\n",
       "                    background-color: var(--colab-primary-surface-color, white);\n",
       "                }\n",
       "                    \n",
       "                .geemap-colab .jupyter-button {\n",
       "                    --jp-layout-color3: var(--colab-primary-surface-color, white);\n",
       "                }\n",
       "            </style>\n",
       "            "
      ],
      "text/plain": [
       "<IPython.core.display.HTML object>"
      ]
     },
     "metadata": {},
     "output_type": "display_data"
    },
    {
     "data": {
      "application/vnd.jupyter.widget-view+json": {
       "model_id": "725a4263762d42a8993156f373c8d129",
       "version_major": 2,
       "version_minor": 0
      },
      "text/plain": [
       "Map(center=[0, 0], controls=(WidgetControl(options=['position', 'transparent_bg'], widget=SearchDataGUI(childr…"
      ]
     },
     "execution_count": 6,
     "metadata": {},
     "output_type": "execute_result"
    }
   ],
   "source": [
    "# Instantiate the map\n",
    "Map01 = geemap.Map(zoom=10) # instantiates a map object with a zoom lelve\n",
    "# Add a baselayer\n",
    "Map01.add_basemap('SATELLITE')\n",
    "# Call the map object\n",
    "Map01"
   ]
  },
  {
   "cell_type": "markdown",
   "id": "f9cd07f3-c3fc-4c17-9c3f-075cb03e1820",
   "metadata": {
    "tags": []
   },
   "source": [
    "### Run the analysis"
   ]
  },
  {
   "cell_type": "markdown",
   "id": "ba9d539b-7868-4f5e-a3b9-cc737a70e680",
   "metadata": {
    "tags": []
   },
   "source": [
    "#### 1. Load the project site shapefile and load the geometry into the map window"
   ]
  },
  {
   "cell_type": "code",
   "execution_count": 7,
   "id": "d4b1469d-2b8a-4b73-b26f-2dfaa9c371aa",
   "metadata": {},
   "outputs": [
    {
     "data": {
      "text/html": [
       "\n",
       "            <style>\n",
       "                .geemap-dark {\n",
       "                    --jp-widgets-color: white;\n",
       "                    --jp-widgets-label-color: white;\n",
       "                    --jp-ui-font-color1: white;\n",
       "                    --jp-layout-color2: #454545;\n",
       "                    background-color: #383838;\n",
       "                }\n",
       "                    \n",
       "                .geemap-dark .jupyter-button {\n",
       "                    --jp-layout-color3: #383838;\n",
       "                }\n",
       "                \n",
       "                .geemap-colab {\n",
       "                    background-color: var(--colab-primary-surface-color, white);\n",
       "                }\n",
       "                    \n",
       "                .geemap-colab .jupyter-button {\n",
       "                    --jp-layout-color3: var(--colab-primary-surface-color, white);\n",
       "                }\n",
       "            </style>\n",
       "            "
      ],
      "text/plain": [
       "<IPython.core.display.HTML object>"
      ]
     },
     "metadata": {},
     "output_type": "display_data"
    }
   ],
   "source": [
    "# smaller DE shape used for testing\n",
    "#envelope, projSite = ProjSite_ToeeGeom(workPath + \"/00_Shapefiles/wildE/DEU.gpkg\")\n",
    "\n",
    "# larget aggregated shp of the entire eu (wildE study area)\n",
    "envelope, projSite = ProjSite_ToeeGeom(workPath + \"/00_Shapefiles/wildE/europe_aggregated.gpkg\")\n",
    "\n",
    "# add extents of analyis\n",
    "Map01.addLayer(envelope, {'color': '000000', 'width': 1, 'lineType': 'solid', 'fillColor': '00000000'}, 'Analysis Boundary')\n",
    "Map01.addLayer(projSite, {'color': 'fa0000', 'width': 1, 'lineType': 'solid', 'fillColor': '00000000'}, 'Project site')\n",
    "Map01.centerObject(projSite)"
   ]
  },
  {
   "cell_type": "markdown",
   "id": "a96083a0",
   "metadata": {},
   "source": [
    "run this chunk in case you want to delete a layer on the map"
   ]
  },
  {
   "cell_type": "code",
   "execution_count": null,
   "id": "f75c4da0",
   "metadata": {},
   "outputs": [
    {
     "data": {
      "text/html": [
       "\n",
       "            <style>\n",
       "                .geemap-dark {\n",
       "                    --jp-widgets-color: white;\n",
       "                    --jp-widgets-label-color: white;\n",
       "                    --jp-ui-font-color1: white;\n",
       "                    --jp-layout-color2: #454545;\n",
       "                    background-color: #383838;\n",
       "                }\n",
       "                    \n",
       "                .geemap-dark .jupyter-button {\n",
       "                    --jp-layout-color3: #383838;\n",
       "                }\n",
       "                \n",
       "                .geemap-colab {\n",
       "                    background-color: var(--colab-primary-surface-color, white);\n",
       "                }\n",
       "                    \n",
       "                .geemap-colab .jupyter-button {\n",
       "                    --jp-layout-color3: var(--colab-primary-surface-color, white);\n",
       "                }\n",
       "            </style>\n",
       "            "
      ],
      "text/plain": [
       "<IPython.core.display.HTML object>"
      ]
     },
     "metadata": {},
     "output_type": "display_data"
    }
   ],
   "source": [
    "#Map01.remove_ee_layer('enterlayername')"
   ]
  },
  {
   "cell_type": "markdown",
   "id": "189ee862",
   "metadata": {},
   "source": [
    "## Same Approach from local and standard wildE Europe grid"
   ]
  },
  {
   "cell_type": "markdown",
   "id": "0e387e4e",
   "metadata": {},
   "source": [
    "#### ogr code to generate reproject wildE grid \n",
    "\n",
    "ogr2ogr -f GPKG -s_srs EPSG:3035 -t_srs EPSG:4326 /Volumes/_wildE_Mapping/00_Shapefiles/grid_europe_4326.gpkg /Volumes/_wildE_Mapping/00_Shapefiles/grid_europe.gpkg"
   ]
  },
  {
   "cell_type": "markdown",
   "id": "7c8dbc72",
   "metadata": {},
   "source": [
    "### Method to create ee.features from the locally stored wildE grid gpkg"
   ]
  },
  {
   "cell_type": "code",
   "execution_count": 9,
   "id": "49715657",
   "metadata": {},
   "outputs": [
    {
     "data": {
      "text/html": [
       "\n",
       "            <style>\n",
       "                .geemap-dark {\n",
       "                    --jp-widgets-color: white;\n",
       "                    --jp-widgets-label-color: white;\n",
       "                    --jp-ui-font-color1: white;\n",
       "                    --jp-layout-color2: #454545;\n",
       "                    background-color: #383838;\n",
       "                }\n",
       "                    \n",
       "                .geemap-dark .jupyter-button {\n",
       "                    --jp-layout-color3: #383838;\n",
       "                }\n",
       "                \n",
       "                .geemap-colab {\n",
       "                    background-color: var(--colab-primary-surface-color, white);\n",
       "                }\n",
       "                    \n",
       "                .geemap-colab .jupyter-button {\n",
       "                    --jp-layout-color3: var(--colab-primary-surface-color, white);\n",
       "                }\n",
       "            </style>\n",
       "            "
      ],
      "text/plain": [
       "<IPython.core.display.HTML object>"
      ]
     },
     "metadata": {},
     "output_type": "display_data"
    }
   ],
   "source": [
    "tileSHP = CopySHPtoMem(workPath + \"/00_Shapefiles/grid_europe_4326.gpkg\")\n",
    "tileLYR = tileSHP.GetLayer()\n",
    "tileFEAT = tileLYR.GetNextFeature()\n",
    "featList = []\n",
    "while tileFEAT:\n",
    "# Get the feature geometry and its ID\n",
    "    geom = tileFEAT.GetGeometryRef()\n",
    "    featID = tileFEAT.GetField(\"id\")\n",
    "    active_YN = tileFEAT.GetField(\"Active_YN\")\n",
    "    if active_YN == 1:\n",
    "    # Build the EE-feature via the json-conversion\n",
    "        geom_json = json.loads(geom.ExportToJson())\n",
    "        geom_coord = geom_json['coordinates']\n",
    "        geom_EE = ee.Geometry.Polygon(coords=geom_coord)\n",
    "        feat_EE = ee.Feature(geom_EE, {\"Id\": featID})\n",
    "    # Add to the list, take next feature\n",
    "        featList.append(feat_EE)\n",
    "    tileFEAT = tileLYR.GetNextFeature()\n",
    "    \n",
    "tileLYR.ResetReading()\n",
    "# Convert the featList into an EE FeatureCollection\n",
    "tiles = ee.FeatureCollection(ee.List(featList))\n",
    "features = ee.Feature(tiles.first()).propertyNames().sort()  # Something Julian did in his script\n",
    "tile_names = tiles.distinct(\"Id\").aggregate_array(\"Id\").getInfo()"
   ]
  },
  {
   "cell_type": "code",
   "execution_count": 14,
   "id": "8f4f2cee",
   "metadata": {},
   "outputs": [
    {
     "data": {
      "text/html": [
       "\n",
       "            <style>\n",
       "                .geemap-dark {\n",
       "                    --jp-widgets-color: white;\n",
       "                    --jp-widgets-label-color: white;\n",
       "                    --jp-ui-font-color1: white;\n",
       "                    --jp-layout-color2: #454545;\n",
       "                    background-color: #383838;\n",
       "                }\n",
       "                    \n",
       "                .geemap-dark .jupyter-button {\n",
       "                    --jp-layout-color3: #383838;\n",
       "                }\n",
       "                \n",
       "                .geemap-colab {\n",
       "                    background-color: var(--colab-primary-surface-color, white);\n",
       "                }\n",
       "                    \n",
       "                .geemap-colab .jupyter-button {\n",
       "                    --jp-layout-color3: var(--colab-primary-surface-color, white);\n",
       "                }\n",
       "            </style>\n",
       "            "
      ],
      "text/plain": [
       "<IPython.core.display.HTML object>"
      ]
     },
     "metadata": {},
     "output_type": "display_data"
    },
    {
     "data": {
      "application/vnd.jupyter.widget-view+json": {
       "model_id": "4f37eab312ab40709c79a361f6cfa461",
       "version_major": 2,
       "version_minor": 0
      },
      "text/plain": [
       "Map(center=[0, 0], controls=(WidgetControl(options=['position', 'transparent_bg'], widget=SearchDataGUI(childr…"
      ]
     },
     "execution_count": 14,
     "metadata": {},
     "output_type": "execute_result"
    }
   ],
   "source": [
    "# Importiere das Earth Engine Python API\n",
    "import ee\n",
    "\n",
    "# Setze das Earth Engine-Konto\n",
    "ee.Initialize()\n",
    "\n",
    "# Instanziiere die Karte\n",
    "Map01 = geemap.Map(zoom=10) # instanziiert ein Kartenobjekt mit einem Zoomlevel\n",
    "# Füge eine Grundkarte hinzu\n",
    "Map01.add_basemap('SATELLITE')\n",
    "\n",
    "# Definiere die Farben für die Features basierend auf Active_YN\n",
    "palette = ['orange', 'red']  # Rot für inaktive und Grün für aktive\n",
    "\n",
    "# Füge die Feature-Sammlung als Layer zur Karte hinzu\n",
    "Map01.addLayer(tiles, {'color': palette[0], 'fillColor': palette[1]}, 'Tiles')\n",
    "\n",
    "# Zentriere die Karte auf die Feature-Sammlung\n",
    "Map01.centerObject(tiles)\n",
    "\n",
    "# Zeige die Karte an\n",
    "Map01\n"
   ]
  },
  {
   "cell_type": "markdown",
   "id": "a7a1f4ca",
   "metadata": {},
   "source": [
    "### Method to create ogr.features from the local wildE grid\n"
   ]
  },
  {
   "cell_type": "code",
   "execution_count": 8,
   "id": "0e8e7937",
   "metadata": {},
   "outputs": [
    {
     "data": {
      "text/html": [
       "\n",
       "            <style>\n",
       "                .geemap-dark {\n",
       "                    --jp-widgets-color: white;\n",
       "                    --jp-widgets-label-color: white;\n",
       "                    --jp-ui-font-color1: white;\n",
       "                    --jp-layout-color2: #454545;\n",
       "                    background-color: #383838;\n",
       "                }\n",
       "                    \n",
       "                .geemap-dark .jupyter-button {\n",
       "                    --jp-layout-color3: #383838;\n",
       "                }\n",
       "                \n",
       "                .geemap-colab {\n",
       "                    background-color: var(--colab-primary-surface-color, white);\n",
       "                }\n",
       "                    \n",
       "                .geemap-colab .jupyter-button {\n",
       "                    --jp-layout-color3: var(--colab-primary-surface-color, white);\n",
       "                }\n",
       "            </style>\n",
       "            "
      ],
      "text/plain": [
       "<IPython.core.display.HTML object>"
      ]
     },
     "metadata": {},
     "output_type": "display_data"
    }
   ],
   "source": [
    "# Open the input shapefile\n",
    "tileSHP = CopySHPtoMem(workPath + \"/00_Shapefiles/grid_europe_4326.gpkg\")\n",
    "if tileSHP is None:\n",
    "    print(\"Failed to open input shapefile.\")\n",
    "    exit(1)\n",
    "\n",
    "# Get the input layer\n",
    "tileLYR = tileSHP.GetLayer()\n",
    "\n",
    "# Create a memory (in-memory) data source\n",
    "mem_driver = ogr.GetDriverByName(\"Memory\")\n",
    "mem_ds = mem_driver.CreateDataSource(\"\")\n",
    "\n",
    "# Create an output layer in memory with the same schema as the input layer\n",
    "grid_wildE = mem_ds.CreateLayer(tileLYR.GetName(), geom_type=tileLYR.GetGeomType())\n",
    "\n",
    "# Copy the fields from the input layer to the output layer\n",
    "grid_wildE.CreateFields(tileLYR.schema)\n",
    "\n",
    "tileFEAT = tileLYR.GetNextFeature()\n",
    "\n",
    "while tileFEAT:\n",
    "    # Get the feature geometry and its ID\n",
    "    geom = tileFEAT.GetGeometryRef()\n",
    "    featID = tileFEAT.GetField(\"id\")\n",
    "    active_YN = tileFEAT.GetField(\"Active_YN\")\n",
    "    \n",
    "    if active_YN == 1:\n",
    "        # Create a new feature in the output layer\n",
    "        output_feature = ogr.Feature(grid_wildE.GetLayerDefn())\n",
    "        output_feature.SetGeometry(geom)\n",
    "        output_feature.SetField(\"Id\", featID)\n",
    "        grid_wildE.CreateFeature(output_feature)\n",
    "        \n",
    "    tileFEAT = tileLYR.GetNextFeature()\n",
    "\n",
    "tileLYR.ResetReading()\n",
    "\n",
    "# Close the input shapefile (you can keep the memory data source open as needed)\n",
    "tileSHP = None\n",
    "\n",
    "# Access the memory data source as needed (mem_ds)\n"
   ]
  },
  {
   "cell_type": "markdown",
   "id": "681e44b9",
   "metadata": {},
   "source": [
    "### Plot grid of tiles with their active flag set to yes"
   ]
  },
  {
   "cell_type": "code",
   "execution_count": 9,
   "id": "0888d476",
   "metadata": {},
   "outputs": [
    {
     "data": {
      "text/html": [
       "\n",
       "            <style>\n",
       "                .geemap-dark {\n",
       "                    --jp-widgets-color: white;\n",
       "                    --jp-widgets-label-color: white;\n",
       "                    --jp-ui-font-color1: white;\n",
       "                    --jp-layout-color2: #454545;\n",
       "                    background-color: #383838;\n",
       "                }\n",
       "                    \n",
       "                .geemap-dark .jupyter-button {\n",
       "                    --jp-layout-color3: #383838;\n",
       "                }\n",
       "                \n",
       "                .geemap-colab {\n",
       "                    background-color: var(--colab-primary-surface-color, white);\n",
       "                }\n",
       "                    \n",
       "                .geemap-colab .jupyter-button {\n",
       "                    --jp-layout-color3: var(--colab-primary-surface-color, white);\n",
       "                }\n",
       "            </style>\n",
       "            "
      ],
      "text/plain": [
       "<IPython.core.display.HTML object>"
      ]
     },
     "metadata": {},
     "output_type": "display_data"
    },
    {
     "data": {
      "image/png": "[encoded data removed]",
      "text/plain": [
       "<Figure size 640x480 with 1 Axes>"
      ]
     },
     "metadata": {},
     "output_type": "display_data"
    }
   ],
   "source": [
    "fig, ax = plt.subplots()\n",
    "\n",
    "# Loop through features and plot them\n",
    "for feature in grid_wildE:\n",
    "    geom = feature.GetGeometryRef()\n",
    "    \n",
    "    if geom is not None:\n",
    "        if geom.GetGeometryType() == ogr.wkbPolygon:\n",
    "            # Plot polygons\n",
    "            ring = geom.GetGeometryRef(0)  # Get the exterior ring\n",
    "            coords = ring.GetPoints()\n",
    "            x, y = zip(*coords)\n",
    "            plt.fill(x, y, 'g', alpha=0.5)  # Fill the polygon with green if active_yn is 1\n",
    "\n",
    "# Set plot limits and display the plot\n",
    "ax.set_xlim(grid_wildE.GetExtent()[0], grid_wildE.GetExtent()[1])\n",
    "ax.set_ylim(grid_wildE.GetExtent()[2], grid_wildE.GetExtent()[3])\n",
    "plt.gca().set_aspect('equal', adjustable='box')  # Equal aspect ratio\n",
    "plt.show()\n",
    "\n",
    "grid_wildE.ResetReading()"
   ]
  },
  {
   "cell_type": "markdown",
   "id": "a5bb49a2",
   "metadata": {},
   "source": [
    "### LUCAS points for fallow and active agriculture identification"
   ]
  },
  {
   "cell_type": "code",
   "execution_count": 10,
   "id": "48f9af66",
   "metadata": {},
   "outputs": [
    {
     "data": {
      "text/html": [
       "\n",
       "            <style>\n",
       "                .geemap-dark {\n",
       "                    --jp-widgets-color: white;\n",
       "                    --jp-widgets-label-color: white;\n",
       "                    --jp-ui-font-color1: white;\n",
       "                    --jp-layout-color2: #454545;\n",
       "                    background-color: #383838;\n",
       "                }\n",
       "                    \n",
       "                .geemap-dark .jupyter-button {\n",
       "                    --jp-layout-color3: #383838;\n",
       "                }\n",
       "                \n",
       "                .geemap-colab {\n",
       "                    background-color: var(--colab-primary-surface-color, white);\n",
       "                }\n",
       "                    \n",
       "                .geemap-colab .jupyter-button {\n",
       "                    --jp-layout-color3: var(--colab-primary-surface-color, white);\n",
       "                }\n",
       "            </style>\n",
       "            "
      ],
      "text/plain": [
       "<IPython.core.display.HTML object>"
      ]
     },
     "metadata": {},
     "output_type": "display_data"
    },
    {
     "data": {
      "text/html": [
       "<pre>&lt;ee.featurecollection.FeatureCollection object at 0x00000218A4C33290&gt;</pre>"
      ],
      "text/plain": [
       "<ee.featurecollection.FeatureCollection at 0x218a4c33290>"
      ]
     },
     "execution_count": 10,
     "metadata": {},
     "output_type": "execute_result"
    }
   ],
   "source": [
    "# Define the dataset\n",
    "LUCAS = ee.FeatureCollection('JRC/LUCAS_HARMO/THLOC/V1')\n",
    "LUCAS"
   ]
  },
  {
   "cell_type": "code",
   "execution_count": 11,
   "id": "e8bcff00",
   "metadata": {},
   "outputs": [
    {
     "data": {
      "text/html": [
       "\n",
       "            <style>\n",
       "                .geemap-dark {\n",
       "                    --jp-widgets-color: white;\n",
       "                    --jp-widgets-label-color: white;\n",
       "                    --jp-ui-font-color1: white;\n",
       "                    --jp-layout-color2: #454545;\n",
       "                    background-color: #383838;\n",
       "                }\n",
       "                    \n",
       "                .geemap-dark .jupyter-button {\n",
       "                    --jp-layout-color3: #383838;\n",
       "                }\n",
       "                \n",
       "                .geemap-colab {\n",
       "                    background-color: var(--colab-primary-surface-color, white);\n",
       "                }\n",
       "                    \n",
       "                .geemap-colab .jupyter-button {\n",
       "                    --jp-layout-color3: var(--colab-primary-surface-color, white);\n",
       "                }\n",
       "            </style>\n",
       "            "
      ],
      "text/plain": [
       "<IPython.core.display.HTML object>"
      ]
     },
     "metadata": {},
     "output_type": "display_data"
    }
   ],
   "source": [
    "# Code for sampling LUCAS points in GEE\n",
    "def filter_LUCAS_active_fallow(LUCAS, cover_class = [ \"agriculture\", \"fallow\"] ):\n",
    "   \n",
    "    # Convert class name string to LUCAS code for LC\n",
    "    LU_classifications = {\n",
    "    \"agriculture\": \"U111\",\n",
    "    \"fallow\": \"U112\"\n",
    "    }\n",
    "\n",
    "    # create selector for LC type\n",
    "    LU_classifications = pd.DataFrame(LU_classifications.items(), columns=['Land Use Type', 'Classification'])\n",
    "    classification = LU_classifications[LU_classifications['Land Use Type'] == cover_class]['Classification'].values[0]\n",
    "\n",
    "    # Create filter conditions for lc1 and lc2 separately (LC2 commented out, due to relative unimportance). Dominant LC will be LC1 if its cover is more than 50%\n",
    "    lu1_filter = ee.Filter.stringContains('lu1', classification)\n",
    "    #lc2_filter = ee.Filter.stringContains('lc2', classification)\n",
    "\n",
    "    # Filter where lc1_perc or lc2_perc are equal to \"> 75%\" (and don't apply this to year 2006 where the perc cover is missing)\n",
    "    year_filter = ee.Filter.eq('year', 2006)\n",
    "    lu1_perc_filter = ee.Filter.Or(ee.Filter.equals('lu1_perc', \"> 90 %\"), year_filter)\n",
    "\n",
    "    # Combine the two filter conditions with 'or' to filter the FeatureCollection\n",
    "    filter_lc1 = ee.Filter.And(lu1_filter, lu1_perc_filter)\n",
    "\n",
    "    # Add a filter to exclude features where parcel_area_ha is equal to desired plot sizes \n",
    "   # parcel_area_filter = ee.Filter.Or(ee.Filter.inList('parcel_area_ha', [\"1 - 10 ha\", \"> 10 ha\"]),  year_filter)\n",
    "    \n",
    "    # Observation quality filter. Select only in-situ points with close and accurate gps coords, or In office Photo interpritation\n",
    "    filter_office_PI = ee.Filter.eq('obs_type', \"In office PI\")\n",
    "    filter_gps_prec = ee.Filter.Or(ee.Filter.lt('gps_prec', 15), filter_office_PI)\n",
    "    filter_obs_dist = ee.Filter.Or(ee.Filter.lt('obs_dist', 15), filter_office_PI)\n",
    "\n",
    "    # Combine the filter conditions\n",
    "   # combined_filter = ee.Filter.And(lu1_filter, parcel_area_filter, filter_gps_prec, filter_obs_dist)\n",
    "    combined_filter = ee.Filter.And(lu1_filter, filter_gps_prec, filter_obs_dist)\n",
    "    # Filter the feature collection\n",
    "    filtered_LUCAS = LUCAS.filter(combined_filter)\n",
    "    \n",
    "    return filtered_LUCAS"
   ]
  },
  {
   "cell_type": "code",
   "execution_count": 36,
   "id": "245bd611",
   "metadata": {},
   "outputs": [
    {
     "data": {
      "text/html": [
       "\n",
       "            <style>\n",
       "                .geemap-dark {\n",
       "                    --jp-widgets-color: white;\n",
       "                    --jp-widgets-label-color: white;\n",
       "                    --jp-ui-font-color1: white;\n",
       "                    --jp-layout-color2: #454545;\n",
       "                    background-color: #383838;\n",
       "                }\n",
       "                    \n",
       "                .geemap-dark .jupyter-button {\n",
       "                    --jp-layout-color3: #383838;\n",
       "                }\n",
       "                \n",
       "                .geemap-colab {\n",
       "                    background-color: var(--colab-primary-surface-color, white);\n",
       "                }\n",
       "                    \n",
       "                .geemap-colab .jupyter-button {\n",
       "                    --jp-layout-color3: var(--colab-primary-surface-color, white);\n",
       "                }\n",
       "            </style>\n",
       "            "
      ],
      "text/plain": [
       "<IPython.core.display.HTML object>"
      ]
     },
     "metadata": {},
     "output_type": "display_data"
    },
    {
     "data": {
      "text/plain": [
       "1420"
      ]
     },
     "execution_count": 36,
     "metadata": {},
     "output_type": "execute_result"
    }
   ],
   "source": [
    "grid_wildE.GetFeatureCount()"
   ]
  },
  {
   "cell_type": "code",
   "execution_count": 12,
   "id": "ae392fba",
   "metadata": {},
   "outputs": [
    {
     "data": {
      "text/html": [
       "\n",
       "            <style>\n",
       "                .geemap-dark {\n",
       "                    --jp-widgets-color: white;\n",
       "                    --jp-widgets-label-color: white;\n",
       "                    --jp-ui-font-color1: white;\n",
       "                    --jp-layout-color2: #454545;\n",
       "                    background-color: #383838;\n",
       "                }\n",
       "                    \n",
       "                .geemap-dark .jupyter-button {\n",
       "                    --jp-layout-color3: #383838;\n",
       "                }\n",
       "                \n",
       "                .geemap-colab {\n",
       "                    background-color: var(--colab-primary-surface-color, white);\n",
       "                }\n",
       "                    \n",
       "                .geemap-colab .jupyter-button {\n",
       "                    --jp-layout-color3: var(--colab-primary-surface-color, white);\n",
       "                }\n",
       "            </style>\n",
       "            "
      ],
      "text/plain": [
       "<IPython.core.display.HTML object>"
      ]
     },
     "metadata": {},
     "output_type": "display_data"
    }
   ],
   "source": [
    "def process_tile_LUCAS(tileFEAT, LUCAS, year, month_start=1, month_end=12, samples=5, LUCAS_years=[]):\n",
    "    geom = tileFEAT.GetGeometryRef()\n",
    "    \n",
    "    # Build the EE-feature via the JSON conversion\n",
    "    geom_json = json.loads(geom.ExportToJson())\n",
    "    geom_coord = geom_json['coordinates']\n",
    "    geom_coord = [c[0:2] for c in geom_coord[0]]\n",
    "    geom_EE = ee.Geometry.Polygon(coords=geom_coord)\n",
    "    \n",
    "    year_lucas = None\n",
    "    # Check if the provided year is in the set lucas_years\n",
    "    if year not in LUCAS_years:\n",
    "        # Find the closest year that is larger than the provided year\n",
    "        year_lucas = LUCAS_find_closest_larger_year(year, LUCAS_years)\n",
    "    else: \n",
    "        year_lucas = year\n",
    "        \n",
    "  #  print(year_lucas)\n",
    "\n",
    "    # Get LUCAS data for the tile and filter it for the most appropriate year\n",
    "    LUCAS_filtered = LUCAS.filterBounds(geom_EE).filter(ee.Filter.eq(\"year\", year_lucas))\n",
    "    \n",
    "    # Limit the collection to the first 'samples' features\n",
    "    LUCAS_filtered = LUCAS_filtered.limit(samples)\n",
    "    #num_points = LUCAS_filtered.size()\n",
    "    #count = ee.Number(num_points).getInfo()\n",
    "    #print(count)\n",
    "\n",
    "    # Update the year in the Seasonal_STMs_C2 function\n",
    "    LND = Seasonal_STMs_C2(year, geom_EE, month_start, month_end, reducer=\"all\")\n",
    "    \n",
    "        # add elevation and Bio Climactic data\n",
    "    DEM           = ee.ImageCollection(\"COPERNICUS/DEM/GLO30\").filterBounds(geom_EE).select([\"DEM\"]).mosaic()\n",
    "    WorldClim_BIO = ee.Image(\"WORLDCLIM/V1/BIO\").clip(geom_EE)\n",
    "    \n",
    "    LND = LND.addBands(DEM).addBands(WorldClim_BIO)\n",
    "    \n",
    "    vals = LND.sampleRegions(\n",
    "        collection=LUCAS_filtered,\n",
    "        properties=[\"id\", \"point_id\", 'lc1', 'lu1_label'],\n",
    "        scale=30,\n",
    "        tileScale=4,\n",
    "        geometries=True\n",
    "    ).getInfo()\n",
    "\n",
    "    if not vals['features']:\n",
    "        return None\n",
    "    else:\n",
    "        # Initialize lists to store coordinates and data\n",
    "        coordinates = []\n",
    "        data_list = []\n",
    "\n",
    "        for f in vals['features']:\n",
    "            geometry = f['geometry']['coordinates']\n",
    "            x_coord, y_coord = geometry[0], geometry[1]\n",
    "\n",
    "            prop = f['properties']\n",
    "            prop['x']    = x_coord\n",
    "            prop['y']    = y_coord\n",
    "            prop['year'] = year\n",
    "\n",
    "            data_list.append(prop)\n",
    "\n",
    "        # Create a DataFrame from the list of dictionaries\n",
    "        tile_data = pd.DataFrame(data_list)\n",
    "\n",
    "        return tile_data"
   ]
  },
  {
   "cell_type": "code",
   "execution_count": 27,
   "id": "b0f3f1ae",
   "metadata": {},
   "outputs": [
    {
     "data": {
      "text/html": [
       "\n",
       "            <style>\n",
       "                .geemap-dark {\n",
       "                    --jp-widgets-color: white;\n",
       "                    --jp-widgets-label-color: white;\n",
       "                    --jp-ui-font-color1: white;\n",
       "                    --jp-layout-color2: #454545;\n",
       "                    background-color: #383838;\n",
       "                }\n",
       "                    \n",
       "                .geemap-dark .jupyter-button {\n",
       "                    --jp-layout-color3: #383838;\n",
       "                }\n",
       "                \n",
       "                .geemap-colab {\n",
       "                    background-color: var(--colab-primary-surface-color, white);\n",
       "                }\n",
       "                    \n",
       "                .geemap-colab .jupyter-button {\n",
       "                    --jp-layout-color3: var(--colab-primary-surface-color, white);\n",
       "                }\n",
       "            </style>\n",
       "            "
      ],
      "text/plain": [
       "<IPython.core.display.HTML object>"
      ]
     },
     "metadata": {},
     "output_type": "display_data"
    },
    {
     "name": "stdout",
     "output_type": "stream",
     "text": [
      "Deleting all items in folder: D:/OneDrive - Humboldt-Universitaet zu Berlin, CMS/uni/WS_23_24/Geopy/MAP_git/01_Sampling/lucas_points/LUCAS_sample_pickle/\n",
      "Folder D:/OneDrive - Humboldt-Universitaet zu Berlin, CMS/uni/WS_23_24/Geopy/MAP_git/01_Sampling/lucas_points/LUCAS_sample_pickle/ is already empty.\n"
     ]
    }
   ],
   "source": [
    "# # Specify the directory where temporary pickle files are located\n",
    "# pickle_dir = workPath + '/01_Sampling/lucas_points/LUCAS_sample_pickle/'\n",
    "\n",
    "# # Call the function to delete all files in the directory\n",
    "# DeleteAllItemsInFolder(pickle_dir)\n"
   ]
  },
  {
   "cell_type": "code",
   "execution_count": 14,
   "id": "89508f35",
   "metadata": {},
   "outputs": [
    {
     "data": {
      "text/html": [
       "\n",
       "            <style>\n",
       "                .geemap-dark {\n",
       "                    --jp-widgets-color: white;\n",
       "                    --jp-widgets-label-color: white;\n",
       "                    --jp-ui-font-color1: white;\n",
       "                    --jp-layout-color2: #454545;\n",
       "                    background-color: #383838;\n",
       "                }\n",
       "                    \n",
       "                .geemap-dark .jupyter-button {\n",
       "                    --jp-layout-color3: #383838;\n",
       "                }\n",
       "                \n",
       "                .geemap-colab {\n",
       "                    background-color: var(--colab-primary-surface-color, white);\n",
       "                }\n",
       "                    \n",
       "                .geemap-colab .jupyter-button {\n",
       "                    --jp-layout-color3: var(--colab-primary-surface-color, white);\n",
       "                }\n",
       "            </style>\n",
       "            "
      ],
      "text/plain": [
       "<IPython.core.display.HTML object>"
      ]
     },
     "metadata": {},
     "output_type": "display_data"
    },
    {
     "name": "stdout",
     "output_type": "stream",
     "text": [
      "Results for agriculture for 2018 from month 3 to 5 already processed. Skipping...\n",
      "Results for agriculture for 2006 from month 3 to 5 already processed. Skipping...\n",
      "Results for agriculture for 2009 from month 3 to 5 already processed. Skipping...\n",
      "Results for agriculture for 2012 from month 3 to 5 already processed. Skipping...\n",
      "Results for agriculture for 2015 from month 3 to 5 already processed. Skipping...\n",
      "Results for agriculture for 2018 from month 5 to 7 already processed. Skipping...\n",
      "Results for agriculture for 2006 from month 5 to 7 already processed. Skipping...\n",
      "Results for agriculture for 2009 from month 5 to 7 already processed. Skipping...\n",
      "Results for agriculture for 2012 from month 5 to 7 already processed. Skipping...\n",
      "Results for agriculture for 2015 from month 5 to 7 already processed. Skipping...\n",
      "Results for agriculture for 2018 from month 7 to 9 already processed. Skipping...\n",
      "Results for agriculture for 2006 from month 7 to 9 already processed. Skipping...\n",
      "Results for agriculture for 2009 from month 7 to 9 already processed. Skipping...\n",
      "Results for agriculture for 2012 from month 7 to 9 already processed. Skipping...\n",
      "Results for agriculture for 2015 from month 7 to 9 already processed. Skipping...\n",
      "Results for agriculture for 2018 from month 3 to 9 already processed. Skipping...\n",
      "Results for agriculture for 2006 from month 3 to 9 already processed. Skipping...\n",
      "Results for agriculture for 2009 from month 3 to 9 already processed. Skipping...\n",
      "Results for agriculture for 2012 from month 3 to 9 already processed. Skipping...\n",
      "Results for agriculture for 2015 from month 3 to 9 already processed. Skipping...\n"
     ]
    }
   ],
   "source": [
    "# Define input parameters\n",
    "\n",
    "# list of landuse classes to loop over\n",
    "land_use_classes = [\"agriculture\", \"fallow\"]\n",
    "\n",
    "# years we want to process\n",
    "years = {2006, 2009, 2012, 2015, 2018}\n",
    "\n",
    "# years of LUCAS survey\n",
    "LUCAS_years = [2006, 2009, 2012, 2015, 2018]\n",
    "LUCAS = ee.FeatureCollection('JRC/LUCAS_HARMO/THLOC/V1')\n",
    "samples = 500\n",
    "\n",
    "pickle_dir = workPath + '/01_Sampling/lucas_points/LUCAS_sample_pickle/'\n",
    "\n",
    "# Filter out the specific warning message\n",
    "warnings.filterwarnings(\"ignore\", message=\"Sleeping.*\")\n",
    "\n",
    "# Define month ranges\n",
    "month_ranges = [\n",
    "    (3, 5),   # March to May\n",
    "    (5, 7),   # May to July\n",
    "    (7, 9),    # July to September\n",
    "    (3, 9),    # Whole Season\n",
    "    (1,12),    # Whole Year\n",
    "    (1, 3),   # Q1: January to March\n",
    "    (4, 6),   # Q2: April to June\n",
    "    (7, 9),   # Q3: July to September\n",
    "    (10, 12) # Q4: October to December\n",
    "\n",
    "    # Add more month ranges as needed\n",
    "]\n",
    "\n",
    "# Define a function to process tiles for a given year, cover class, and month range\n",
    "def process_tiles_for_year_and_class_and_month_range(year, land_use_class, month_start, month_end):\n",
    "    with concurrent.futures.ThreadPoolExecutor(max_workers=8) as executor:\n",
    "        results = list(executor.map(lambda tile: process_tile_LUCAS(tile,\n",
    "                                                                    LUCAS=LUCAS_filtered,\n",
    "                                                                    samples=samples,\n",
    "                                                                    year=year,\n",
    "                                                                    month_start=month_start,\n",
    "                                                                    month_end=month_end,\n",
    "                                                                    LUCAS_years=LUCAS_years),\n",
    "                                    grid_wildE))\n",
    "\n",
    "    print(f\"All tiles for {land_use_class} for {year} from month {month_start} to {month_end} have been processed\")  # Print a progress message\n",
    "\n",
    "    # Save the results to a temporary file using pickle\n",
    "    with open(f'{pickle_dir}temporary_results_{land_use_class}_{year}_{month_start}-{month_end}.pkl', 'wb') as f:\n",
    "        pickle.dump(results, f)\n",
    "\n",
    "    return results\n",
    "\n",
    "# Loop over each land use class\n",
    "for land_use_class in land_use_classes:\n",
    "    # Select land use class\n",
    "    LUCAS_filtered = filter_LUCAS_active_fallow(LUCAS, land_use_class)\n",
    "\n",
    "    # Loop over each month range\n",
    "    for month_start, month_end in month_ranges:\n",
    "        # Loop over each year\n",
    "        for year in years:\n",
    "            try:\n",
    "                # Check for available pickle files for each year, land use class, and month range\n",
    "                pickle_file = f'{pickle_dir}temporary_results_{land_use_class}_{year}_{month_start}-{month_end}.pkl'\n",
    "                if os.path.exists(pickle_file):\n",
    "                    print(f\"Results for {land_use_class} for {year} from month {month_start} to {month_end} already processed. Skipping...\")\n",
    "                    continue\n",
    "\n",
    "                # Process tiles for the current year, land use class, and month range\n",
    "                process_tiles_for_year_and_class_and_month_range(year, land_use_class, month_start, month_end)\n",
    "\n",
    "            except Exception as e:\n",
    "                print(f\"Error processing data for {land_use_class} for {year} from month {month_start} to {month_end}: {str(e)}\")\n",
    "\n",
    "print(\"Processing completed.\")  # Print a message indicating that the processing is finished\n"
   ]
  },
  {
   "cell_type": "markdown",
   "id": "a34c97e2",
   "metadata": {},
   "source": [
    "### Saving pickled files as csv"
   ]
  },
  {
   "cell_type": "code",
   "execution_count": null,
   "id": "1ab9cc6c",
   "metadata": {},
   "outputs": [],
   "source": [
    "# Create an empty DataFrame to store the merged data for both land use classes\n",
    "merged_data_both_classes = pd.DataFrame()\n",
    "\n",
    "# Loop over each month range\n",
    "for month_start, month_end in month_ranges:\n",
    "    # Create an empty DataFrame to store the merged data for the current month range\n",
    "    merged_data_month_range = pd.DataFrame()\n",
    "\n",
    "    # Loop over each land use class\n",
    "    for land_use_class in land_use_classes:\n",
    "        # Loop over each year\n",
    "        for year in years:\n",
    "            # Combine the results into a DataFrame for the current year, land use class, and month range\n",
    "            with open(f'{pickle_dir}temporary_results_{land_use_class}_{year}_{month_start}-{month_end}.pkl', 'rb') as f:\n",
    "                results = pickle.load(f)\n",
    "            df = pd.concat([pd.DataFrame(result) for result in results])\n",
    "            df['land_use_classes'] = land_use_class  # Add the land use column\n",
    "            merged_data_month_range = pd.concat([merged_data_month_range, df], ignore_index=True)\n",
    "\n",
    "    # Add a column for the season (month range) to the merged data for the current month range\n",
    "    merged_data_month_range['season'] = f\"{month_start}-{month_end}\"\n",
    "\n",
    "    # Append the merged data for the current month range to the DataFrame for both land use classes\n",
    "    merged_data_both_classes = pd.concat([merged_data_both_classes, merged_data_month_range], ignore_index=True)\n",
    "\n",
    "    # Define the file path for the CSV file\n",
    "    csv_file_path = workPath + f'/01_Sampling/lucas_points/LUCAS_sample_Both_Classes_{month_start}-{month_end}.csv'\n",
    "\n",
    "    # Check if the CSV file already exists\n",
    "    if os.path.exists(csv_file_path):\n",
    "        print(f\"CSV file for month range {month_start}-{month_end} already exists. Overwriting...\")\n",
    "\n",
    "    # Save the merged data for the current month range to a CSV file\n",
    "    merged_data_month_range.rename(columns={'x': 'x_coord', 'y': 'y_coord'}, inplace=True)\n",
    "    merged_data_month_range.to_csv(csv_file_path, index=False)\n",
    "\n",
    "# Save the merged data for both land use classes to a single CSV file\n",
    "merged_data_both_classes.rename(columns={'x': 'x_coord', 'y': 'y_coord'}, inplace=True)\n",
    "merged_data_both_classes.to_csv(workPath + f'/01_Sampling/lucas_points/LUCAS_sample_Both_Classes_All.csv', index=False)\n",
    "\n",
    "print(\"All CSV files generated.\")  # Print a message indicating that the processing is finished\n",
    "\n"
   ]
  }
 ],
 "metadata": {
  "kernelspec": {
   "display_name": "Python 3.10.6 ('anaconda_env')",
   "language": "python",
   "name": "python3"
  },
  "language_info": {
   "codemirror_mode": {
    "name": "ipython",
    "version": 3
   },
   "file_extension": ".py",
   "mimetype": "text/x-python",
   "name": "python",
   "nbconvert_exporter": "python",
   "pygments_lexer": "ipython3",
   "version": "3.11.7"
  },
  "vscode": {
   "interpreter": {
    "hash": "0edc24dbc5cafb7dbcdbf05521fd13531db021af73dd1fb988aa6bae4360be4d"
   }
  }
 },
 "nbformat": 4,
 "nbformat_minor": 5
}
