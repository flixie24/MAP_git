{
 "cells": [
  {
   "attachments": {},
   "cell_type": "markdown",
   "metadata": {},
   "source": [
    "# Training & Prediction fallow active agricultural areas\n",
    "The goal of the script is to make use of sklearns algorithms for Random Forest and Support Vector Machine classifiers to train and predict fallow and active agricultural areas across Europe\n",
    "\n",
    "Steps\n",
    "- Import ROI \n",
    "- Load Sampling Data containing STM's and other info\n",
    "- train-test splitting\n",
    "- model training\n",
    "- prediction\n",
    "- accuracy assesment\n",
    "- Output visualization"
   ]
  },
  {
   "cell_type": "code",
   "execution_count": 1,
   "metadata": {},
   "outputs": [],
   "source": [
    "from osgeo import ogr, osr, gdal\n",
    "import geemap, ee\n",
    "import pandas as pd\n",
    "import json\n",
    "import numpy as np\n",
    "import matplotlib.pyplot as plt\n",
    "import seaborn as sns\n",
    "\n",
    "from tqdm import tqdm\n",
    "import math\n",
    "from scipy.stats import norm, gamma, f, chi2\n",
    "from functools import partial\n",
    "import concurrent.futures\n",
    "import pickle\n",
    "import logging\n",
    "from sklearn.ensemble import RandomForestClassifier\n",
    "from scipy.stats import randint\n",
    "import joblib\n",
    "from sklearn.model_selection import RandomizedSearchCV, StratifiedKFold, RepeatedStratifiedKFold\n",
    "import folium\n",
    "import sys\n",
    "import os"
   ]
  },
  {
   "cell_type": "code",
   "execution_count": 2,
   "metadata": {},
   "outputs": [
    {
     "data": {
      "text/html": [
       "\n",
       "            <style>\n",
       "                .geemap-dark {\n",
       "                    --jp-widgets-color: white;\n",
       "                    --jp-widgets-label-color: white;\n",
       "                    --jp-ui-font-color1: white;\n",
       "                    --jp-layout-color2: #454545;\n",
       "                    background-color: #383838;\n",
       "                }\n",
       "                    \n",
       "                .geemap-dark .jupyter-button {\n",
       "                    --jp-layout-color3: #383838;\n",
       "                }\n",
       "                \n",
       "                .geemap-colab {\n",
       "                    background-color: var(--colab-primary-surface-color, white);\n",
       "                }\n",
       "                    \n",
       "                .geemap-colab .jupyter-button {\n",
       "                    --jp-layout-color3: var(--colab-primary-surface-color, white);\n",
       "                }\n",
       "            </style>\n",
       "            "
      ],
      "text/plain": [
       "<IPython.core.display.HTML object>"
      ]
     },
     "metadata": {},
     "output_type": "display_data"
    }
   ],
   "source": [
    "#workPath = 'D:/OneDrive - Humboldt-Universitaet zu Berlin, CMS/uni/WS_23_24/Geopy/MAP_git'\n",
    "#workPath = \"/Users/rubenbutzer/Library/CloudStorage/OneDrive-Humboldt-UniversitaetzuBerlin,CMS/uni/WS_23_24/Geopy/MAP_git\"\n",
    "#workPath = r'\\\\141.20.141.12\\SAN_BioGeo\\_HiWi\\Ruben\\wildE'\n",
    "workPath = 'E:/MAP_git'"
   ]
  },
  {
   "cell_type": "code",
   "execution_count": 3,
   "metadata": {},
   "outputs": [
    {
     "data": {
      "text/html": [
       "\n",
       "            <style>\n",
       "                .geemap-dark {\n",
       "                    --jp-widgets-color: white;\n",
       "                    --jp-widgets-label-color: white;\n",
       "                    --jp-ui-font-color1: white;\n",
       "                    --jp-layout-color2: #454545;\n",
       "                    background-color: #383838;\n",
       "                }\n",
       "                    \n",
       "                .geemap-dark .jupyter-button {\n",
       "                    --jp-layout-color3: #383838;\n",
       "                }\n",
       "                \n",
       "                .geemap-colab {\n",
       "                    background-color: var(--colab-primary-surface-color, white);\n",
       "                }\n",
       "                    \n",
       "                .geemap-colab .jupyter-button {\n",
       "                    --jp-layout-color3: var(--colab-primary-surface-color, white);\n",
       "                }\n",
       "            </style>\n",
       "            "
      ],
      "text/plain": [
       "<IPython.core.display.HTML object>"
      ]
     },
     "metadata": {},
     "output_type": "display_data"
    }
   ],
   "source": [
    "sys.path.append(workPath)\n",
    "from tools import *\n",
    "from tools_schnesha import *\n",
    "from tools_butzerru import *"
   ]
  },
  {
   "cell_type": "code",
   "execution_count": 4,
   "metadata": {},
   "outputs": [
    {
     "data": {
      "text/html": [
       "\n",
       "            <style>\n",
       "                .geemap-dark {\n",
       "                    --jp-widgets-color: white;\n",
       "                    --jp-widgets-label-color: white;\n",
       "                    --jp-ui-font-color1: white;\n",
       "                    --jp-layout-color2: #454545;\n",
       "                    background-color: #383838;\n",
       "                }\n",
       "                    \n",
       "                .geemap-dark .jupyter-button {\n",
       "                    --jp-layout-color3: #383838;\n",
       "                }\n",
       "                \n",
       "                .geemap-colab {\n",
       "                    background-color: var(--colab-primary-surface-color, white);\n",
       "                }\n",
       "                    \n",
       "                .geemap-colab .jupyter-button {\n",
       "                    --jp-layout-color3: var(--colab-primary-surface-color, white);\n",
       "                }\n",
       "            </style>\n",
       "            "
      ],
      "text/plain": [
       "<IPython.core.display.HTML object>"
      ]
     },
     "metadata": {},
     "output_type": "display_data"
    }
   ],
   "source": [
    "try:\n",
    "    ee.Initialize()\n",
    "except Exception as e:\n",
    "    ee.Authenticate()\n",
    "    ee.Initialize()"
   ]
  },
  {
   "attachments": {},
   "cell_type": "markdown",
   "metadata": {},
   "source": [
    "### Einladen der Sampling Daten\n",
    "\n",
    "- hier kann schon gewählt werden, welche Seasons eingeladen werden sollen.\n",
    "\n",
    "- weiterhin kann mit max_subset_size stattdessen ein subset geladen werden für schnelleres Prozessieren. Dafür muss if True gesetzt sein. "
   ]
  },
  {
   "cell_type": "code",
   "execution_count": 5,
   "metadata": {},
   "outputs": [
    {
     "data": {
      "text/html": [
       "\n",
       "            <style>\n",
       "                .geemap-dark {\n",
       "                    --jp-widgets-color: white;\n",
       "                    --jp-widgets-label-color: white;\n",
       "                    --jp-ui-font-color1: white;\n",
       "                    --jp-layout-color2: #454545;\n",
       "                    background-color: #383838;\n",
       "                }\n",
       "                    \n",
       "                .geemap-dark .jupyter-button {\n",
       "                    --jp-layout-color3: #383838;\n",
       "                }\n",
       "                \n",
       "                .geemap-colab {\n",
       "                    background-color: var(--colab-primary-surface-color, white);\n",
       "                }\n",
       "                    \n",
       "                .geemap-colab .jupyter-button {\n",
       "                    --jp-layout-color3: var(--colab-primary-surface-color, white);\n",
       "                }\n",
       "            </style>\n",
       "            "
      ],
      "text/plain": [
       "<IPython.core.display.HTML object>"
      ]
     },
     "metadata": {},
     "output_type": "display_data"
    },
    {
     "name": "stdout",
     "output_type": "stream",
     "text": [
      "Loading data from pickle E:/MAP_git\\02_Training\\train_pickle\\LUCAS_random_sample_3-9.pkl...\n",
      "Training data:\n",
      "          B_mean     B_p10     B_p25     B_p50     B_p75     B_p90  B_stdDev   \n",
      "0       0.058301  0.031302  0.041120  0.058789  0.073020  0.082507  0.019127  \\\n",
      "1       0.047961  0.040350  0.045575  0.047692  0.054100  0.057895  0.008039   \n",
      "2       0.066045  0.045630  0.053770  0.063257  0.074147  0.088942  0.020259   \n",
      "3       0.056036  0.038975  0.048325  0.056932  0.062735  0.069417  0.017161   \n",
      "4       0.023687  0.012492  0.016893  0.023946  0.028195  0.030917  0.012273   \n",
      "...          ...       ...       ...       ...       ...       ...       ...   \n",
      "447539  0.039741  0.029652  0.031137  0.037297  0.042880  0.055365  0.011128   \n",
      "447540  0.056812  0.032815  0.055145  0.058967  0.062075  0.070710  0.011665   \n",
      "447541  0.076640  0.056327  0.064962  0.075564  0.087196  0.092105  0.016667   \n",
      "447542  0.050689  0.038012  0.040982  0.049535  0.058775  0.067135  0.010942   \n",
      "447543  0.048194  0.034245  0.037806  0.046620  0.058266  0.063918  0.012245   \n",
      "\n",
      "               DEM  EVI_mean   EVI_p10  ...   tcW_p25   tcW_p50   tcW_p75   \n",
      "0       504.843231  0.329694  0.148753  ... -0.190064 -0.133526 -0.038542  \\\n",
      "1       854.304993  0.271844  0.175603  ... -0.147431 -0.141727 -0.130977   \n",
      "2       707.585388  0.329198  0.238276  ... -0.220009 -0.174865 -0.147986   \n",
      "3       168.598724  0.313266  0.223156  ... -0.143875 -0.125765 -0.093497   \n",
      "4       233.938263  0.552741  0.433694  ... -0.014517 -0.010499  0.008117   \n",
      "...            ...       ...       ...  ...       ...       ...       ...   \n",
      "447539  530.857971  0.430838  0.353144  ... -0.079138 -0.064768 -0.032808   \n",
      "447540  318.117096  0.226050  0.163757  ... -0.129630 -0.124475 -0.088097   \n",
      "447541  540.985291  0.241149  0.192639  ... -0.165847 -0.155120 -0.133476   \n",
      "447542  852.980713  0.273018  0.147831  ... -0.206764 -0.147194 -0.125141   \n",
      "447543  797.444458  0.346724  0.227408  ... -0.165731 -0.095234 -0.035565   \n",
      "\n",
      "         tcW_p90  tcW_stdDev    x_coord    y_coord  year  land_use_classes   \n",
      "0      -0.001475    0.078667  23.758508  41.563746  2018            active  \\\n",
      "1      -0.070733    0.048117  23.178286  42.026468  2018            active   \n",
      "2      -0.109845    0.054171  23.164542  41.516315  2018            active   \n",
      "3      -0.039652    0.039947  23.286353  41.518471  2018            active   \n",
      "4       0.009070    0.022823  23.086927  41.380489  2018            active   \n",
      "...          ...         ...        ...        ...   ...               ...   \n",
      "447539 -0.021676    0.032156  -7.605541  41.742960  2015            fallow   \n",
      "447540 -0.054369    0.028817  -7.122068  41.606865  2015            fallow   \n",
      "447541 -0.111831    0.028515  -7.288077  41.670196  2015            fallow   \n",
      "447542 -0.094520    0.044505  -7.299935  41.797128  2015            fallow   \n",
      "447543 -0.016741    0.062687  -7.313409  41.757782  2015            fallow   \n",
      "\n",
      "        season  \n",
      "0          3-9  \n",
      "1          3-9  \n",
      "2          3-9  \n",
      "3          3-9  \n",
      "4          3-9  \n",
      "...        ...  \n",
      "447539     3-9  \n",
      "447540     3-9  \n",
      "447541     3-9  \n",
      "447542     3-9  \n",
      "447543     3-9  \n",
      "\n",
      "[447544 rows x 155 columns]\n"
     ]
    }
   ],
   "source": [
    "# Definiere eine Liste von Seasons, die du verwenden möchtest\n",
    "desired_seasons = ['3-9']\n",
    "\n",
    "# Konvertiere die gewünschten Jahreszeiten in einen lesbaren String\n",
    "seasons_str = '_'.join(desired_seasons)\n",
    "\n",
    "# Optional: Definiere die maximale Größe des zwischengespeicherten Subsets\n",
    "max_subset_size = 'all'\n",
    "#max_subset_size = 100000\n",
    "\n",
    "# Definiere den Pfad zur LUCAS-Beispieldatei im CSV-Format\n",
    "path = os.path.join(workPath, '01_Sampling', 'lucas_points', 'LUCAS_sample_Both_Classes_All.csv')\n",
    "\n",
    "#sampling_data = pd.read_csv(path)\n",
    "\n",
    "\n",
    "# Überprüfe, ob das Pickle bereits vorhanden ist\n",
    "pickle_file_name = f\"LUCAS_random_sample_{seasons_str}\"\n",
    "if max_subset_size != 'all':\n",
    "    if max_subset_size > 1774881:\n",
    "        print(\"Die gewünschte Sample-Größe ist größer als die verfügbaren Daten. Bitte 'all' bei desired_seasons eingeben.\")\n",
    "        desired_seasons = 'all'\n",
    "    else:\n",
    "        pickle_file_name += f\"_{max_subset_size}\"\n",
    "pickle_file_name += \".pkl\"\n",
    "pickle_path = os.path.join(workPath, \"02_Training\", \"train_pickle\", pickle_file_name)\n",
    "\n",
    "if os.path.exists(pickle_path):\n",
    "    print(f\"Loading data from pickle {pickle_path}...\")\n",
    "    # Lade das Pickle direkt, wenn vorhanden\n",
    "    training_data = pd.read_pickle(pickle_path)\n",
    "\n",
    "    # Entferne Duplikate und fehlende Werte aus den Trainingsdaten\n",
    "    training_data = training_data.drop_duplicates().dropna()\n",
    "\n",
    "    # Ersetze den Wert \"agriculture\" in der Spalte 'land_use_classes' durch \"active\"\n",
    "    training_data['land_use_classes'] = training_data['land_use_classes'].replace('agriculture', 'active')\n",
    "else:\n",
    "    print(\"Pickle file not found. Generating training data...\")\n",
    "    # Lade die CSV-Datei als Pandas DataFrame\n",
    "    sampling_data = pd.read_csv(path)\n",
    "\n",
    "    # Initialisiere eine leere DataFrame, um die gefilterten Daten zu speichern\n",
    "    training_data = pd.DataFrame()\n",
    "\n",
    "    # Iteriere über jede Season und filtere die Daten entsprechend\n",
    "    for season in desired_seasons:\n",
    "        # Filtere die Daten für die aktuelle Season\n",
    "        season_data = sampling_data[sampling_data['season'] == season]\n",
    "\n",
    "        # Füge die gefilterten Daten zur DataFrame hinzu\n",
    "        training_data = pd.concat([training_data, season_data], ignore_index=True)\n",
    "\n",
    "    # Erzeuge ein zufälliges Subset der Trainingsdaten, wenn die maximale Größe nicht 'all' ist\n",
    "    if max_subset_size != 'all' and len(training_data) > max_subset_size:\n",
    "        subset_data = training_data.sample(n=max_subset_size, random_state=42)\n",
    "    else:\n",
    "        subset_data = training_data\n",
    "    \n",
    "    # Speichere das Subset als Pickle-Datei\n",
    "    subset_data.to_pickle(pickle_path)\n",
    "\n",
    "    # Verwende das zwischengespeicherte Subset als Trainingsdaten\n",
    "    training_data = subset_data\n",
    "\n",
    "    # Entferne Duplikate und fehlende Werte aus den Trainingsdaten\n",
    "    training_data = training_data.drop_duplicates().dropna()\n",
    "\n",
    "    # Ersetze den Wert \"agriculture\" in der Spalte 'land_use_classes' durch \"active\"\n",
    "    training_data['land_use_classes'] = training_data['land_use_classes'].replace('agriculture', 'active')\n",
    "\n",
    "# Zeige die gefilterten Trainingsdaten an\n",
    "print(\"Training data:\")\n",
    "print(training_data)\n"
   ]
  },
  {
   "cell_type": "code",
   "execution_count": 10,
   "metadata": {},
   "outputs": [
    {
     "data": {
      "text/html": [
       "\n",
       "            <style>\n",
       "                .geemap-dark {\n",
       "                    --jp-widgets-color: white;\n",
       "                    --jp-widgets-label-color: white;\n",
       "                    --jp-ui-font-color1: white;\n",
       "                    --jp-layout-color2: #454545;\n",
       "                    background-color: #383838;\n",
       "                }\n",
       "                    \n",
       "                .geemap-dark .jupyter-button {\n",
       "                    --jp-layout-color3: #383838;\n",
       "                }\n",
       "                \n",
       "                .geemap-colab {\n",
       "                    background-color: var(--colab-primary-surface-color, white);\n",
       "                }\n",
       "                    \n",
       "                .geemap-colab .jupyter-button {\n",
       "                    --jp-layout-color3: var(--colab-primary-surface-color, white);\n",
       "                }\n",
       "            </style>\n",
       "            "
      ],
      "text/plain": [
       "<IPython.core.display.HTML object>"
      ]
     },
     "metadata": {},
     "output_type": "display_data"
    },
    {
     "name": "stdout",
     "output_type": "stream",
     "text": [
      "B_mean\n",
      "B_p10\n",
      "B_p25\n",
      "B_p50\n",
      "B_p75\n",
      "B_p90\n",
      "B_stdDev\n",
      "DEM\n",
      "EVI_mean\n",
      "EVI_p10\n",
      "EVI_p25\n",
      "EVI_p50\n",
      "EVI_p75\n",
      "EVI_p90\n",
      "EVI_stdDev\n",
      "G_mean\n",
      "G_p10\n",
      "G_p25\n",
      "G_p50\n",
      "G_p75\n",
      "G_p90\n",
      "G_stdDev\n",
      "MSAVI_mean\n",
      "MSAVI_p10\n",
      "MSAVI_p25\n",
      "MSAVI_p50\n",
      "MSAVI_p75\n",
      "MSAVI_p90\n",
      "MSAVI_stdDev\n",
      "MSI_mean\n",
      "MSI_p10\n",
      "MSI_p25\n",
      "MSI_p50\n",
      "MSI_p75\n",
      "MSI_p90\n",
      "MSI_stdDev\n",
      "NBR2_mean\n",
      "NBR2_p10\n",
      "NBR2_p25\n",
      "NBR2_p50\n",
      "NBR2_p75\n",
      "NBR2_p90\n",
      "NBR2_stdDev\n",
      "NBR_mean\n",
      "NBR_p10\n",
      "NBR_p25\n",
      "NBR_p50\n",
      "NBR_p75\n",
      "NBR_p90\n",
      "NBR_stdDev\n",
      "NDMI_mean\n",
      "NDMI_p10\n",
      "NDMI_p25\n",
      "NDMI_p50\n",
      "NDMI_p75\n",
      "NDMI_p90\n",
      "NDMI_stdDev\n",
      "NDVI_mean\n",
      "NDVI_p10\n",
      "NDVI_p25\n",
      "NDVI_p50\n",
      "NDVI_p75\n",
      "NDVI_p90\n",
      "NDVI_stdDev\n",
      "NDWI_mean\n",
      "NDWI_p10\n",
      "NDWI_p25\n",
      "NDWI_p50\n",
      "NDWI_p75\n",
      "NDWI_p90\n",
      "NDWI_stdDev\n",
      "NIR_mean\n",
      "NIR_p10\n",
      "NIR_p25\n",
      "NIR_p50\n",
      "NIR_p75\n",
      "NIR_p90\n",
      "NIR_stdDev\n",
      "R_mean\n",
      "R_p10\n",
      "R_p25\n",
      "R_p50\n",
      "R_p75\n",
      "R_p90\n",
      "R_stdDev\n",
      "SWIR1_mean\n",
      "SWIR1_p10\n",
      "SWIR1_p25\n",
      "SWIR1_p50\n",
      "SWIR1_p75\n",
      "SWIR1_p90\n",
      "SWIR1_stdDev\n",
      "SWIR2_mean\n",
      "SWIR2_p10\n",
      "SWIR2_p25\n",
      "SWIR2_p50\n",
      "SWIR2_p75\n",
      "SWIR2_p90\n",
      "SWIR2_stdDev\n",
      "SWIRratio_mean\n",
      "SWIRratio_p10\n",
      "SWIRratio_p25\n",
      "SWIRratio_p50\n",
      "SWIRratio_p75\n",
      "SWIRratio_p90\n",
      "SWIRratio_stdDev\n",
      "bio01\n",
      "bio02\n",
      "bio03\n",
      "bio04\n",
      "bio05\n",
      "bio06\n",
      "bio07\n",
      "bio08\n",
      "bio09\n",
      "bio10\n",
      "bio11\n",
      "bio12\n",
      "bio13\n",
      "bio14\n",
      "bio15\n",
      "bio16\n",
      "bio17\n",
      "bio18\n",
      "bio19\n",
      "id\n",
      "lc1\n",
      "lu1_label\n",
      "point_id\n",
      "tcB_mean\n",
      "tcB_p10\n",
      "tcB_p25\n",
      "tcB_p50\n",
      "tcB_p75\n",
      "tcB_p90\n",
      "tcB_stdDev\n",
      "tcG_mean\n",
      "tcG_p10\n",
      "tcG_p25\n",
      "tcG_p50\n",
      "tcG_p75\n",
      "tcG_p90\n",
      "tcG_stdDev\n",
      "tcW_mean\n",
      "tcW_p10\n",
      "tcW_p25\n",
      "tcW_p50\n",
      "tcW_p75\n",
      "tcW_p90\n",
      "tcW_stdDev\n",
      "x_coord\n",
      "y_coord\n",
      "year\n",
      "land_use_classes\n",
      "season\n"
     ]
    }
   ],
   "source": [
    "print(\"\\n\".join(training_data.columns))\n"
   ]
  },
  {
   "cell_type": "code",
   "execution_count": 9,
   "metadata": {},
   "outputs": [
    {
     "data": {
      "text/html": [
       "\n",
       "            <style>\n",
       "                .geemap-dark {\n",
       "                    --jp-widgets-color: white;\n",
       "                    --jp-widgets-label-color: white;\n",
       "                    --jp-ui-font-color1: white;\n",
       "                    --jp-layout-color2: #454545;\n",
       "                    background-color: #383838;\n",
       "                }\n",
       "                    \n",
       "                .geemap-dark .jupyter-button {\n",
       "                    --jp-layout-color3: #383838;\n",
       "                }\n",
       "                \n",
       "                .geemap-colab {\n",
       "                    background-color: var(--colab-primary-surface-color, white);\n",
       "                }\n",
       "                    \n",
       "                .geemap-colab .jupyter-button {\n",
       "                    --jp-layout-color3: var(--colab-primary-surface-color, white);\n",
       "                }\n",
       "            </style>\n",
       "            "
      ],
      "text/plain": [
       "<IPython.core.display.HTML object>"
      ]
     },
     "metadata": {},
     "output_type": "display_data"
    },
    {
     "name": "stdout",
     "output_type": "stream",
     "text": [
      "Index(['B_mean', 'B_p10', 'B_p25', 'B_p50', 'B_p75', 'B_p90', 'B_stdDev',\n",
      "       'DEM', 'EVI_mean', 'EVI_p10',\n",
      "       ...\n",
      "       'tcW_p25', 'tcW_p50', 'tcW_p75', 'tcW_p90', 'tcW_stdDev', 'x_coord',\n",
      "       'y_coord', 'year', 'land_use_classes', 'season'],\n",
      "      dtype='object', length=155)\n"
     ]
    }
   ],
   "source": [
    "print(training_data.columns)"
   ]
  },
  {
   "attachments": {},
   "cell_type": "markdown",
   "metadata": {},
   "source": [
    "#### Optional: Remove cover classes that are not wanted"
   ]
  },
  {
   "cell_type": "code",
   "execution_count": 6,
   "metadata": {},
   "outputs": [
    {
     "data": {
      "text/html": [
       "\n",
       "            <style>\n",
       "                .geemap-dark {\n",
       "                    --jp-widgets-color: white;\n",
       "                    --jp-widgets-label-color: white;\n",
       "                    --jp-ui-font-color1: white;\n",
       "                    --jp-layout-color2: #454545;\n",
       "                    background-color: #383838;\n",
       "                }\n",
       "                    \n",
       "                .geemap-dark .jupyter-button {\n",
       "                    --jp-layout-color3: #383838;\n",
       "                }\n",
       "                \n",
       "                .geemap-colab {\n",
       "                    background-color: var(--colab-primary-surface-color, white);\n",
       "                }\n",
       "                    \n",
       "                .geemap-colab .jupyter-button {\n",
       "                    --jp-layout-color3: var(--colab-primary-surface-color, white);\n",
       "                }\n",
       "            </style>\n",
       "            "
      ],
      "text/plain": [
       "<IPython.core.display.HTML object>"
      ]
     },
     "metadata": {},
     "output_type": "display_data"
    },
    {
     "data": {
      "text/plain": [
       "array(['B53', 'E10', 'E20', 'A11', 'A21', 'BX1', 'BX2', 'C10', 'D20',\n",
       "       'A22', 'B16', 'B31', 'B52', 'E30', 'B43', 'B11', 'B12', 'B13',\n",
       "       'B54', 'D10', 'F40', 'B15', 'B14', 'B21', 'B37', 'B41', 'B75',\n",
       "       'B32', 'B82', 'B74', 'B81', 'B34', 'B71', 'G21', 'A13', 'B42',\n",
       "       'B51', 'B55', 'B83', 'B22', 'B33', 'B35', 'B19', 'B18', 'C21',\n",
       "       'B72', 'C22', 'B23', 'B76', 'F10', 'G11', 'A30', 'B73', 'C33',\n",
       "       'C32', 'B45', 'F20', 'B84', 'B36', 'B77', 'B44', 'B17', 'C31',\n",
       "       'C23', 'A12', 'H21', 'G12', 'F30', 'F00', 'C20', 'C30', 'G10',\n",
       "       'G20'], dtype=object)"
      ]
     },
     "execution_count": 6,
     "metadata": {},
     "output_type": "execute_result"
    }
   ],
   "source": [
    "training_data[\"lc1\"].unique()"
   ]
  },
  {
   "cell_type": "markdown",
   "metadata": {},
   "source": [
    "- A : Artificial\n",
    "- B : Crop\n",
    "- C : Woodland\n",
    "- D : Shrubland\n",
    "- E : Grassland\n",
    "- F : Bare Land\n",
    "- G : Water\n",
    "- H : Wetland\n"
   ]
  },
  {
   "attachments": {},
   "cell_type": "markdown",
   "metadata": {},
   "source": [
    "removing all classes apart from Cropland, Grassland, Shrubland, Bare Land\n",
    "\n"
   ]
  },
  {
   "cell_type": "code",
   "execution_count": 11,
   "metadata": {},
   "outputs": [
    {
     "data": {
      "text/html": [
       "\n",
       "            <style>\n",
       "                .geemap-dark {\n",
       "                    --jp-widgets-color: white;\n",
       "                    --jp-widgets-label-color: white;\n",
       "                    --jp-ui-font-color1: white;\n",
       "                    --jp-layout-color2: #454545;\n",
       "                    background-color: #383838;\n",
       "                }\n",
       "                    \n",
       "                .geemap-dark .jupyter-button {\n",
       "                    --jp-layout-color3: #383838;\n",
       "                }\n",
       "                \n",
       "                .geemap-colab {\n",
       "                    background-color: var(--colab-primary-surface-color, white);\n",
       "                }\n",
       "                    \n",
       "                .geemap-colab .jupyter-button {\n",
       "                    --jp-layout-color3: var(--colab-primary-surface-color, white);\n",
       "                }\n",
       "            </style>\n",
       "            "
      ],
      "text/plain": [
       "<IPython.core.display.HTML object>"
      ]
     },
     "metadata": {},
     "output_type": "display_data"
    },
    {
     "data": {
      "text/plain": [
       "array(['B53', 'E10', 'E20', 'BX1', 'BX2', 'D20', 'B16', 'B31', 'B52',\n",
       "       'E30', 'B43', 'B11', 'B12', 'B13', 'B54', 'D10', 'F40', 'B15',\n",
       "       'B14', 'B21', 'B37', 'B41', 'B75', 'B32', 'B82', 'B74', 'B81',\n",
       "       'B34', 'B71', 'B42', 'B51', 'B55', 'B83', 'B22', 'B33', 'B35',\n",
       "       'B19', 'B18', 'B72', 'B23', 'B76', 'F10', 'B73', 'B45', 'F20',\n",
       "       'B84', 'B36', 'B77', 'B44', 'B17', 'F30', 'F00'], dtype=object)"
      ]
     },
     "execution_count": 11,
     "metadata": {},
     "output_type": "execute_result"
    }
   ],
   "source": [
    "# filter out Water, Wetland, Artificial, Woodland\n",
    "training_data = training_data[training_data['lc1'].str.startswith(('B', 'D', 'E', 'F'), na=False)] \n",
    "training_data\n",
    "training_data[\"lc1\"].unique()\n"
   ]
  },
  {
   "cell_type": "code",
   "execution_count": 8,
   "metadata": {},
   "outputs": [
    {
     "data": {
      "text/html": [
       "\n",
       "            <style>\n",
       "                .geemap-dark {\n",
       "                    --jp-widgets-color: white;\n",
       "                    --jp-widgets-label-color: white;\n",
       "                    --jp-ui-font-color1: white;\n",
       "                    --jp-layout-color2: #454545;\n",
       "                    background-color: #383838;\n",
       "                }\n",
       "                    \n",
       "                .geemap-dark .jupyter-button {\n",
       "                    --jp-layout-color3: #383838;\n",
       "                }\n",
       "                \n",
       "                .geemap-colab {\n",
       "                    background-color: var(--colab-primary-surface-color, white);\n",
       "                }\n",
       "                    \n",
       "                .geemap-colab .jupyter-button {\n",
       "                    --jp-layout-color3: var(--colab-primary-surface-color, white);\n",
       "                }\n",
       "            </style>\n",
       "            "
      ],
      "text/plain": [
       "<IPython.core.display.HTML object>"
      ]
     },
     "metadata": {},
     "output_type": "display_data"
    },
    {
     "data": {
      "text/plain": [
       "(440152, 155)"
      ]
     },
     "execution_count": 8,
     "metadata": {},
     "output_type": "execute_result"
    }
   ],
   "source": [
    "training_data.shape"
   ]
  },
  {
   "attachments": {},
   "cell_type": "markdown",
   "metadata": {},
   "source": [
    "#### Optional:  Equalize number of training points per Land cover class"
   ]
  },
  {
   "cell_type": "code",
   "execution_count": 9,
   "metadata": {},
   "outputs": [
    {
     "data": {
      "text/html": [
       "\n",
       "            <style>\n",
       "                .geemap-dark {\n",
       "                    --jp-widgets-color: white;\n",
       "                    --jp-widgets-label-color: white;\n",
       "                    --jp-ui-font-color1: white;\n",
       "                    --jp-layout-color2: #454545;\n",
       "                    background-color: #383838;\n",
       "                }\n",
       "                    \n",
       "                .geemap-dark .jupyter-button {\n",
       "                    --jp-layout-color3: #383838;\n",
       "                }\n",
       "                \n",
       "                .geemap-colab {\n",
       "                    background-color: var(--colab-primary-surface-color, white);\n",
       "                }\n",
       "                    \n",
       "                .geemap-colab .jupyter-button {\n",
       "                    --jp-layout-color3: var(--colab-primary-surface-color, white);\n",
       "                }\n",
       "            </style>\n",
       "            "
      ],
      "text/plain": [
       "<IPython.core.display.HTML object>"
      ]
     },
     "metadata": {},
     "output_type": "display_data"
    }
   ],
   "source": [
    "# # Determine the minimum number of observations for a class\n",
    "# min_obs = training_data['land_use_classes'].value_counts().min()\n",
    "\n",
    "# # Create a new DataFrame with an equal number of rows per class\n",
    "# training_data = pd.concat([group.sample(min_obs) for _, group in training_data.groupby('land_use_classes')])"
   ]
  },
  {
   "cell_type": "code",
   "execution_count": 13,
   "metadata": {},
   "outputs": [
    {
     "data": {
      "text/html": [
       "\n",
       "            <style>\n",
       "                .geemap-dark {\n",
       "                    --jp-widgets-color: white;\n",
       "                    --jp-widgets-label-color: white;\n",
       "                    --jp-ui-font-color1: white;\n",
       "                    --jp-layout-color2: #454545;\n",
       "                    background-color: #383838;\n",
       "                }\n",
       "                    \n",
       "                .geemap-dark .jupyter-button {\n",
       "                    --jp-layout-color3: #383838;\n",
       "                }\n",
       "                \n",
       "                .geemap-colab {\n",
       "                    background-color: var(--colab-primary-surface-color, white);\n",
       "                }\n",
       "                    \n",
       "                .geemap-colab .jupyter-button {\n",
       "                    --jp-layout-color3: var(--colab-primary-surface-color, white);\n",
       "                }\n",
       "            </style>\n",
       "            "
      ],
      "text/plain": [
       "<IPython.core.display.HTML object>"
      ]
     },
     "metadata": {},
     "output_type": "display_data"
    },
    {
     "name": "stdout",
     "output_type": "stream",
     "text": [
      "Length of modified training_data: (440152, 128)\n"
     ]
    }
   ],
   "source": [
    "# Kopiere den DataFrame, um Änderungen vorzunehmen, ohne den ursprünglichen DataFrame zu beeinflussen\n",
    "modified_training_data = training_data.copy()\n",
    "\n",
    "# Entferne die angegebenen Spalten\n",
    "columns_to_remove = ['DEM', 'id', 'lc1', 'lu1_label', 'point_id', 'point_id', 'year', 'land_use_classes', 'season']\n",
    "modified_training_data.drop(columns_to_remove, axis=1, inplace=True)\n",
    "modified_training_data = modified_training_data.loc[:, ~modified_training_data.columns.str.contains('bio')]\n",
    "\n",
    "# Zeige die Länge des modifizierten DataFrames an\n",
    "print(\"Length of modified training_data:\", modified_training_data.shape)\n"
   ]
  },
  {
   "attachments": {},
   "cell_type": "markdown",
   "metadata": {},
   "source": [
    "## Visualizing the Data"
   ]
  },
  {
   "attachments": {},
   "cell_type": "markdown",
   "metadata": {},
   "source": [
    "#### Plot the distribution of training data per landcover type and year"
   ]
  },
  {
   "cell_type": "code",
   "execution_count": 16,
   "metadata": {},
   "outputs": [
    {
     "data": {
      "text/html": [
       "\n",
       "            <style>\n",
       "                .geemap-dark {\n",
       "                    --jp-widgets-color: white;\n",
       "                    --jp-widgets-label-color: white;\n",
       "                    --jp-ui-font-color1: white;\n",
       "                    --jp-layout-color2: #454545;\n",
       "                    background-color: #383838;\n",
       "                }\n",
       "                    \n",
       "                .geemap-dark .jupyter-button {\n",
       "                    --jp-layout-color3: #383838;\n",
       "                }\n",
       "                \n",
       "                .geemap-colab {\n",
       "                    background-color: var(--colab-primary-surface-color, white);\n",
       "                }\n",
       "                    \n",
       "                .geemap-colab .jupyter-button {\n",
       "                    --jp-layout-color3: var(--colab-primary-surface-color, white);\n",
       "                }\n",
       "            </style>\n",
       "            "
      ],
      "text/plain": [
       "<IPython.core.display.HTML object>"
      ]
     },
     "metadata": {},
     "output_type": "display_data"
    },
    {
     "name": "stderr",
     "output_type": "stream",
     "text": [
      "c:\\Users\\Ruben\\.conda\\envs\\wilde\\Lib\\site-packages\\seaborn\\axisgrid.py:854: FutureWarning: \n",
      "\n",
      "Passing `palette` without assigning `hue` is deprecated and will be removed in v0.14.0. Assign the `x` variable to `hue` and set `legend=False` for the same effect.\n",
      "\n",
      "  func(*plot_args, **plot_kwargs)\n",
      "c:\\Users\\Ruben\\.conda\\envs\\wilde\\Lib\\site-packages\\seaborn\\axisgrid.py:854: FutureWarning: \n",
      "\n",
      "Passing `palette` without assigning `hue` is deprecated and will be removed in v0.14.0. Assign the `x` variable to `hue` and set `legend=False` for the same effect.\n",
      "\n",
      "  func(*plot_args, **plot_kwargs)\n"
     ]
    },
    {
     "data": {
      "image/png": "[encoded data removed]",
      "text/plain": [
       "<Figure size 1000x500 with 2 Axes>"
      ]
     },
     "metadata": {},
     "output_type": "display_data"
    }
   ],
   "source": [
    "import seaborn as sns\n",
    "import matplotlib.pyplot as plt\n",
    "\n",
    "# Set the style of seaborn\n",
    "sns.set(style=\"whitegrid\")\n",
    "\n",
    "# Function to plot data for the single season\n",
    "def plot_season_data(data):\n",
    "    # Get the unique value from the \"season\" column\n",
    "    season_name = data['season'].unique()[0]  # Assuming only one unique value for the season\n",
    "\n",
    "    # Get the maximum count of observations for setting ylim\n",
    "    max_count = data.groupby(['land_use_classes', 'year']).size().max()\n",
    "\n",
    "    # Calculate the total number of rows per cover class\n",
    "    total_per_class = data['land_use_classes'].value_counts()\n",
    "\n",
    "    # Determine the number of unique land_use_classes\n",
    "    num_land_use_classes = len(data['land_use_classes'].unique())\n",
    "\n",
    "    # Calculate the number of columns based on the number of unique land_use_classes\n",
    "    col_wrap = min(5, num_land_use_classes)\n",
    "\n",
    "    # Create a facet grid with seaborn\n",
    "    g = sns.FacetGrid(data, col=\"land_use_classes\", col_wrap=col_wrap, height=5, sharey=False)\n",
    "\n",
    "    # Map a bar plot for the number of observations per year, color by year\n",
    "    g.map(sns.countplot, \"year\", order=sorted(data['year'].unique()), palette=\"viridis\", legend=False)\n",
    "\n",
    "    # Set titles and labels\n",
    "    g.set_axis_labels(\"Year\", \"Count\")\n",
    "    g.set_titles(col_template=\"{col_name}\")\n",
    "    plt.subplots_adjust(wspace=0.2)\n",
    "    g.fig.suptitle(f\"Yearly Fallow and Active Numbers for {season_name} Season\", fontsize=16, y=1.02)  # Hier wurde die Überschrift angepasst\n",
    "\n",
    "    # Set different ylim for the fallow subplot\n",
    "    for ax, (cover_class, total_obs) in zip(g.axes.flat, total_per_class.items()):\n",
    "        ax.set(ylim=(0, total_obs))\n",
    "        \n",
    "        # Annotate each subplot with the total number of observations per cover class\n",
    "        ax.text(0.5, -0.2, f'n={total_obs}', transform=ax.transAxes, ha='center', va='baseline')\n",
    "\n",
    "    # Show the plot\n",
    "    plt.show()\n",
    "\n",
    "# Plot für die einzelne Saison\n",
    "plot_season_data(training_data)\n"
   ]
  },
  {
   "attachments": {},
   "cell_type": "markdown",
   "metadata": {},
   "source": [
    "#### welche Land-Covers kommen wie häufig vor bei Fallow und Active (lc1) ? "
   ]
  },
  {
   "cell_type": "code",
   "execution_count": 18,
   "metadata": {},
   "outputs": [
    {
     "data": {
      "text/html": [
       "\n",
       "            <style>\n",
       "                .geemap-dark {\n",
       "                    --jp-widgets-color: white;\n",
       "                    --jp-widgets-label-color: white;\n",
       "                    --jp-ui-font-color1: white;\n",
       "                    --jp-layout-color2: #454545;\n",
       "                    background-color: #383838;\n",
       "                }\n",
       "                    \n",
       "                .geemap-dark .jupyter-button {\n",
       "                    --jp-layout-color3: #383838;\n",
       "                }\n",
       "                \n",
       "                .geemap-colab {\n",
       "                    background-color: var(--colab-primary-surface-color, white);\n",
       "                }\n",
       "                    \n",
       "                .geemap-colab .jupyter-button {\n",
       "                    --jp-layout-color3: var(--colab-primary-surface-color, white);\n",
       "                }\n",
       "            </style>\n",
       "            "
      ],
      "text/plain": [
       "<IPython.core.display.HTML object>"
      ]
     },
     "metadata": {},
     "output_type": "display_data"
    },
    {
     "name": "stderr",
     "output_type": "stream",
     "text": [
      "c:\\Users\\Ruben\\.conda\\envs\\wilde\\Lib\\site-packages\\seaborn\\axisgrid.py:854: FutureWarning: \n",
      "\n",
      "Passing `palette` without assigning `hue` is deprecated and will be removed in v0.14.0. Assign the `x` variable to `hue` and set `legend=False` for the same effect.\n",
      "\n",
      "  func(*plot_args, **plot_kwargs)\n",
      "c:\\Users\\Ruben\\.conda\\envs\\wilde\\Lib\\site-packages\\seaborn\\axisgrid.py:854: FutureWarning: \n",
      "\n",
      "Passing `palette` without assigning `hue` is deprecated and will be removed in v0.14.0. Assign the `x` variable to `hue` and set `legend=False` for the same effect.\n",
      "\n",
      "  func(*plot_args, **plot_kwargs)\n",
      "c:\\Users\\Ruben\\.conda\\envs\\wilde\\Lib\\site-packages\\seaborn\\axisgrid.py:854: FutureWarning: \n",
      "\n",
      "Passing `palette` without assigning `hue` is deprecated and will be removed in v0.14.0. Assign the `x` variable to `hue` and set `legend=False` for the same effect.\n",
      "\n",
      "  func(*plot_args, **plot_kwargs)\n",
      "c:\\Users\\Ruben\\.conda\\envs\\wilde\\Lib\\site-packages\\seaborn\\axisgrid.py:854: FutureWarning: \n",
      "\n",
      "Passing `palette` without assigning `hue` is deprecated and will be removed in v0.14.0. Assign the `x` variable to `hue` and set `legend=False` for the same effect.\n",
      "\n",
      "  func(*plot_args, **plot_kwargs)\n"
     ]
    },
    {
     "data": {
      "image/png": "[encoded data removed]",
      "text/plain": [
       "<Figure size 1200x300 with 4 Axes>"
      ]
     },
     "metadata": {},
     "output_type": "display_data"
    }
   ],
   "source": [
    "import seaborn as sns\n",
    "import matplotlib.pyplot as plt\n",
    "\n",
    "# Set the style of seaborn\n",
    "sns.set(style=\"whitegrid\")\n",
    "\n",
    "# Function to plot data for each season\n",
    "def plot_landcover_occ(data):\n",
    "    # Copy the data\n",
    "    data_plot = data.copy()\n",
    "    \n",
    "    # Add a new column 'lc1_grouped' containing only the first letter of 'lc1'\n",
    "    data_plot['lc1_grouped'] = data['lc1'].str[0]\n",
    "\n",
    "    # Mapping 'lc1_grouped' to the desired legend\n",
    "    legend_mapping = {'A': 'Artificial',\n",
    "                      'B': 'Cropland',\n",
    "                      'C': 'Woodland',\n",
    "                      'D': 'Shrubland',\n",
    "                      'E': 'Grassland',\n",
    "                      'F': 'Bare Land',\n",
    "                      'G': 'Water',\n",
    "                      'H': 'Wetlands'}\n",
    "\n",
    "    # Rename the categories in the 'lc1_grouped' column\n",
    "    data_plot['lc1_grouped'] = data_plot['lc1_grouped'].map(legend_mapping)\n",
    "\n",
    "    # Get the maximum count of observations for setting ylim\n",
    "    max_count = data_plot.groupby(['lc1_grouped', 'land_use_classes']).size().max()\n",
    "\n",
    "    # Calculate the total number of rows per cover class\n",
    "    total_per_class = data_plot['lc1_grouped'].value_counts()\n",
    "\n",
    "    # Create a facet grid with seaborn\n",
    "    g = sns.FacetGrid(data_plot, col=\"lc1_grouped\", col_wrap=4, height=3, sharey=False)\n",
    "\n",
    "    # Map a bar plot for the number of observations per class, color by class\n",
    "    g.map(sns.countplot, \"land_use_classes\", order=sorted(data_plot['land_use_classes'].unique()), palette={\"active\": \"green\", \"fallow\": \"brown\"}, legend=False)\n",
    "\n",
    "    # Set titles and labels\n",
    "    g.set_axis_labels('', \"Count\")\n",
    "    g.set_titles(col_template=\"{col_name}\")\n",
    "    plt.subplots_adjust(top=0.88)  # Adjust the top margin to make room for title\n",
    "\n",
    "    # Annotate each subplot with the total number of observations per cover class\n",
    "    for ax, (cover_class, total_obs) in zip(g.axes.flat, total_per_class.items()):\n",
    "        #ax.text(0.5, 1.1, f'n={total_obs:.0f}', transform=ax.transAxes, ha='center', va='baseline')\n",
    "        \n",
    "        # Add counts on top of the bars\n",
    "        for p in ax.patches:\n",
    "            ax.annotate(f'{int(p.get_height())}', (p.get_x() + p.get_width() / 2., p.get_height()),\n",
    "                        ha='center', va='center', fontsize=8, color='black', xytext=(0, 5),\n",
    "                        textcoords='offset points')\n",
    "\n",
    "    # Show the plot with a dynamic title based on the content of the 'season' column\n",
    "    plt.suptitle(f\"Fallow-Active Distribution per Land Cover Class \", fontsize=16, y=1.05)  # Move the title up\n",
    "    plt.show()\n",
    "\n",
    "# Plot Data\n",
    "plot_landcover_occ(training_data)\n"
   ]
  },
  {
   "attachments": {},
   "cell_type": "markdown",
   "metadata": {},
   "source": [
    "## ML Model Setup"
   ]
  },
  {
   "attachments": {},
   "cell_type": "markdown",
   "metadata": {},
   "source": [
    "### Setting up Caching of optimal model outputs"
   ]
  },
  {
   "cell_type": "code",
   "execution_count": null,
   "metadata": {},
   "outputs": [],
   "source": [
    "# Define the paths for saving and loading the models\n",
    "save_path = workPath + \"/02_Training/ML_caching\"\n",
    "\n",
    "# Construct the model paths with information about season and sample size\n",
    "rf_model_path = os.path.join(save_path, f\"rf_regression_model_{desired_seasons}_{max_subset_size}.pkl\")\n",
    "ee_model_path = os.path.join(save_path, f\"ee_regressor_model_{desired_seasons}_{max_subset_size}.pkl\")\n",
    "\n",
    "\n",
    "# To load the models if they exist:\n",
    "if os.path.exists(rf_model_path):\n",
    "    best_mod = joblib.load(rf_model_path)\n",
    "\n",
    "if os.path.exists(ee_model_path):\n",
    "    ee_regressor = joblib.load(ee_model_path)"
   ]
  },
  {
   "attachments": {},
   "cell_type": "markdown",
   "metadata": {},
   "source": [
    "### Cache cleaning\n",
    "\n",
    "set flush_cash = True to clean cache"
   ]
  },
  {
   "cell_type": "code",
   "execution_count": null,
   "metadata": {},
   "outputs": [],
   "source": [
    "flush_cash = False\n",
    "\n",
    "# To flush (delete) the models if needed:\n",
    "if flush_cash:\n",
    "    if os.path.exists(rf_model_path):\n",
    "        os.remove(rf_model_path)\n",
    "    if os.path.exists(ee_model_path):\n",
    "        os.remove(ee_model_path)\n",
    "    if os.path.exists(svm_model_path):  \n",
    "        os.remove(svm_model_path)\n",
    "    if os.path.exists(ee_svm_model_path):\n",
    "        os.remove(ee_svm_model_path)"
   ]
  },
  {
   "attachments": {},
   "cell_type": "markdown",
   "metadata": {},
   "source": [
    "### Prep training and test data"
   ]
  },
  {
   "attachments": {},
   "cell_type": "markdown",
   "metadata": {},
   "source": [
    "In dieser Version des Codes werden die Daten basierend auf den ausgewählten Jahreszeiten (seasons_to_use) gefiltert, und dann werden Trainings- und Testdaten nur aus den gefilterten Daten für diese Jahreszeiten erstellt."
   ]
  },
  {
   "cell_type": "code",
   "execution_count": null,
   "metadata": {},
   "outputs": [],
   "source": [
    "from sklearn.preprocessing import StandardScaler, LabelEncoder\n",
    "from sklearn.model_selection import train_test_split\n",
    "\n",
    "\n",
    "# Dictionary to store data for each class\n",
    "class_data = {}\n",
    "\n",
    "# Separate data based on classes\n",
    "for class_label in np.unique(training_data['land_use_classes']):\n",
    "    class_data[class_label] = training_data[training_data['land_use_classes'] == class_label]\n",
    "\n",
    "# Initialize empty lists for train and test data\n",
    "X_train_list, X_test_list, y_train_list, y_test_list = [], [], [], []\n",
    "\n",
    "# Percentage split for training and test data\n",
    "train_percentage = 0.7  # 70% for training, adjust as needed\n",
    "\n",
    "# Split each class into training and test sets for the selected seasons\n",
    "for class_label, class_df in class_data.items():\n",
    "    # Filter data for the selected seasons\n",
    "    class_df_seasons = class_df[class_df['season'].isin(desired_seasons)]\n",
    "    \n",
    "    # Separate features and target\n",
    "    X_class = class_df_seasons.drop(['DEM', 'id', 'lc1', 'lu1_label', 'point_id', 'point_id', 'year', 'land_use_classes', 'season'], axis=1)\n",
    "    X_class = X_class.loc[:, ~X_class.columns.str.contains('bio')]\n",
    "    y_class = class_df_seasons['land_use_classes']\n",
    "    \n",
    "    # Split class data into training and test sets\n",
    "    X_class_train, X_class_test, y_class_train, y_class_test = train_test_split(\n",
    "        X_class, y_class, test_size=1 - train_percentage, stratify=y_class, random_state=42\n",
    "    )\n",
    "\n",
    "    # Append the class data to the overall lists\n",
    "    X_train_list.append(X_class_train)\n",
    "    X_test_list.append(X_class_test)\n",
    "    y_train_list.append(y_class_train)\n",
    "    y_test_list.append(y_class_test)\n",
    "\n",
    "# Concatenate data from all classes to create final training and test sets\n",
    "X_train = pd.concat(X_train_list)\n",
    "X_test = pd.concat(X_test_list)\n",
    "y_train = pd.concat(y_train_list)\n",
    "y_test = pd.concat(y_test_list)\n",
    "\n",
    "# Shuffle the data (optional)\n",
    "shuffle_index_train = np.random.permutation(len(X_train))\n",
    "shuffle_index_test = np.random.permutation(len(X_test))\n",
    "\n",
    "X_train, y_train = X_train.iloc[shuffle_index_train], y_train.iloc[shuffle_index_train]\n",
    "X_test, y_test = X_test.iloc[shuffle_index_test], y_test.iloc[shuffle_index_test]\n",
    "\n",
    "# Check the shape of the training set\n",
    "print(\"Shape of the training set:\", X_train.shape)\n",
    "# Check the shape of the test set\n",
    "print(\"Shape of the test set:\", X_test.shape)\n",
    "\n",
    "# Label encoding for y_train and y_test\n",
    "label_encoder = LabelEncoder()\n",
    "y_train = label_encoder.fit_transform(y_train)\n",
    "y_test = label_encoder.transform(y_test)\n",
    "\n",
    "# Check the unique encoded values\n",
    "encoded_classes = label_encoder.classes_\n",
    "print(\"Encoded classes:\", encoded_classes)\n",
    "\n",
    "\n",
    "# Calculate the total number of samples in the training and test sets\n",
    "total_samples_initial = len(training_data)\n",
    "total_samples_train = len(y_train)\n",
    "total_samples_test = len(y_test)\n",
    "\n",
    "# Print class distribution in the initial training data as percent\n",
    "print(\"Class distribution in initial training data:\")\n",
    "print((training_data['land_use_classes'].value_counts() / total_samples_initial) * 100)\n",
    "\n",
    "# Print class distribution in training and test sets\n",
    "print(\"Class distribution in training set:\")\n",
    "print(pd.Series(y_train).value_counts())\n",
    "print((pd.Series(y_train).value_counts() / total_samples_train) * 100)\n",
    "\n",
    "print(\"\\nClass distribution in test set:\")\n",
    "print(pd.Series(y_test).value_counts())\n",
    "print((pd.Series(y_test).value_counts() / total_samples_test) * 100)\n",
    "\n",
    "# Calculate the total number of samples in the training and test sets\n",
    "total_samples_initial = len(training_data)\n",
    "total_samples_train = len(y_train)\n",
    "total_samples_test = len(y_test)\n"
   ]
  },
  {
   "attachments": {},
   "cell_type": "markdown",
   "metadata": {},
   "source": [
    "## Model Training"
   ]
  },
  {
   "attachments": {},
   "cell_type": "markdown",
   "metadata": {},
   "source": [
    "## Random Forest"
   ]
  },
  {
   "cell_type": "code",
   "execution_count": null,
   "metadata": {},
   "outputs": [],
   "source": [
    "\n",
    "# Create a classifier instance\n",
    "RF = RandomForestClassifier(class_weight='balanced', random_state=42) # balanced\n",
    "param_grid = {\n",
    "    'max_depth':list(np.arange(10, 100, step=10)) + [None],\n",
    "            'n_estimators':np.arange(10, 60, step=5),\n",
    "            'max_features':randint(1,80),\n",
    "            'criterion':['gini','entropy'],\n",
    "            'min_samples_leaf':randint(5,80),\n",
    "            'min_samples_split':np.arange(5, 80, step=2)\n",
    "        }\n",
    "\n",
    "\n",
    "RF_cv = RandomizedSearchCV(RF, \n",
    "                            param_distributions=param_grid, \n",
    "                            n_iter=5, \n",
    "                            cv=StratifiedKFold(n_splits=5, shuffle=True, random_state=42),  \n",
    "                            n_jobs= -1, \n",
    "                            random_state=42, \n",
    "                            scoring='f1', # Wenn das Hauptziel darin besteht, das Ungleichgewicht der Klassen zu berücksichtigen, könnten Metriken wie Precision, Recall oder F1-Score relevanter sein als die Accuracy.\n",
    "                            verbose=3)\n",
    "\n",
    "# Fit the RandomizedSearchCV to your data\n",
    "RF_cv.fit(X_train, y_train)\n",
    "\n",
    "# Get the best parameters\n",
    "best_params = RF_cv.best_params_\n",
    "\n",
    "# Create the best model with the best parameters\n",
    "best_mod = RandomForestClassifier(class_weight='balanced', random_state=42, **best_params)\n",
    "best_mod.fit(X_train, y_train)\n",
    "\n",
    "# Optionally, evaluate the best model on the test set\n",
    "test_score = best_mod.score(X_test, y_test)\n",
    "\n",
    "# Print the best parameters and test score\n",
    "print(\"Best Parameters:\", best_params)\n",
    "print(\"Test Set Score:\", test_score)\n",
    "\n",
    "# Save the RandomForestrf model as a pickle\n",
    "joblib.dump(best_mod, rf_model_path)"
   ]
  },
  {
   "attachments": {},
   "cell_type": "markdown",
   "metadata": {},
   "source": [
    "### Konvertierung in Earth-Engine Format und speicherung als Pickle"
   ]
  },
  {
   "cell_type": "code",
   "execution_count": null,
   "metadata": {},
   "outputs": [],
   "source": [
    "\n",
    "# from geemap import ml\n",
    "# # Get the feature names\n",
    "# feature_names = X_class.columns.tolist()\n",
    "# # Convert the model to a string representation\n",
    "# best_mod_str = ml.rf_to_strings(best_mod, feature_names, output_mode=\"CLASSIFICATION\", processes =8)\n",
    "# # Convert the string representation back to a classifier\n",
    "# ee_rf = ml.strings_to_classifier(best_mod_str)\n",
    "\n",
    "# # Save the Earth Engine RandomForestrf model as a pickle\n",
    "# joblib.dump(ee_rf, ee_model_path)\n",
    "\n",
    "# ee_rf\n",
    "\n",
    "# file_size = os.path.getsize(ee_model_path) / (1024 * 1024)\n",
    "# print(f\"The file size of {ee_model_path} \\n is {file_size} MB.\")\n"
   ]
  },
  {
   "attachments": {},
   "cell_type": "markdown",
   "metadata": {},
   "source": [
    "## Metrics"
   ]
  },
  {
   "cell_type": "code",
   "execution_count": null,
   "metadata": {},
   "outputs": [],
   "source": [
    "from sklearn.metrics import confusion_matrix, accuracy_score, precision_score, recall_score, f1_score, classification_report\n",
    "import seaborn as sns\n",
    "import matplotlib.pyplot as plt\n",
    "\n",
    "#\n",
    "best_mod = joblib.load(rf_model_path)\n",
    "\n",
    "# Make predictions\n",
    "y_train_pred = best_mod.predict(X_train)\n",
    "y_test_pred = best_mod.predict(X_test)\n",
    "\n",
    "# add weighting to prediciton of fallow \n",
    "y_pred_prob = best_mod.predict_proba(X_train)[:, 1]\n",
    "#y_train_pred = (y_pred_prob > 0.3).astype(int)  # Adjust the threshold as needed\n",
    "\n",
    "y_pred_prob = best_mod.predict_proba(X_test)[:, 1]\n",
    "#y_test_pred = (y_pred_prob > 0.3).astype(int)  # Adjust the threshold as needed\n",
    "\n",
    "# Get unique class labels\n",
    "class_labels = sorted(set(y_train))\n",
    "\n",
    "# Evaluate on training set\n",
    "print(\"Training Set Metrics:\")\n",
    "conf_matrix_train = confusion_matrix(y_train, y_train_pred, labels=class_labels)\n",
    "print(\"\\nAccuracy: {:.4f}\".format(accuracy_score(y_train, y_train_pred)))\n",
    "print(\"Precision: {:.4f}\".format(precision_score(y_train, y_train_pred, average='weighted')))\n",
    "print(\"Recall: {:.4f}\".format(recall_score(y_train, y_train_pred, average='weighted')))\n",
    "print(\"F1 Score: {:.4f}\".format(f1_score(y_train, y_train_pred, average='weighted')))\n",
    "print(\"\\nClassification Report:\")\n",
    "print(classification_report(y_train, y_train_pred))\n",
    "\n",
    "class_labels = training_data[\"land_use_classes\"].unique()\n",
    "# Plotting the confusion matrix for training set\n",
    "plt.figure(figsize=(8, 6))\n",
    "sns.heatmap(conf_matrix_train, annot=True, fmt=\"d\", cmap=\"Blues\", cbar=False, annot_kws={\"size\": 14},\n",
    "            xticklabels=class_labels, yticklabels=class_labels)\n",
    "plt.title(\"Confusion Matrix - Training Set\")\n",
    "plt.xlabel(\"Predicted Label\")\n",
    "plt.ylabel(\"True Label\")\n",
    "plt.show()\n",
    "\n",
    "# Normalize the confusion matrix to get values between 0 and 1 for each class\n",
    "conf_matrix_train = conf_matrix_train.astype('float') / conf_matrix_train.sum(axis=1)[:, np.newaxis]\n",
    "# Plotting the confusion matrix for testing set\n",
    "# Get unique class labels\n",
    "plt.figure(figsize=(8, 6))\n",
    "sns.heatmap(conf_matrix_train, annot=True, fmt=\".2f\", cmap=\"viridis\", cbar=False, annot_kws={\"size\": 14},\n",
    "            xticklabels=class_labels, yticklabels=class_labels)\n",
    "\n",
    "plt.title(\"Normalized Confusion Matrix - Training Set\")\n",
    "plt.xlabel(\"Predicted Label\")\n",
    "plt.ylabel(\"True Label\")\n",
    "plt.show()\n",
    "\n",
    "\n",
    "# Evaluate on testing set\n",
    "print(\"\\nTesting Set Metrics:\")\n",
    "# Get unique class labels\n",
    "class_labels = sorted(set(y_train))\n",
    "conf_matrix_test = confusion_matrix(y_test, y_test_pred, labels=class_labels)\n",
    "class_labels = training_data[\"land_use_classes\"].unique()\n",
    "print(\"\\nAccuracy: {:.4f}\".format(accuracy_score(y_test, y_test_pred)))\n",
    "print(\"Precision: {:.4f}\".format(precision_score(y_test, y_test_pred, average='weighted')))\n",
    "print(\"Recall: {:.4f}\".format(recall_score(y_test, y_test_pred, average='weighted')))\n",
    "print(\"F1 Score: {:.4f}\".format(f1_score(y_test, y_test_pred, average='weighted')))\n",
    "print(\"\\nClassification Report:\")\n",
    "print(classification_report(y_test, y_test_pred))\n",
    "\n",
    "# Plotting the confusion matrix for testing set\n",
    "plt.figure(figsize=(8, 6))\n",
    "sns.heatmap(conf_matrix_test, annot=True, fmt=\"d\", cmap=\"Blues\", cbar=False, annot_kws={\"size\": 14},\n",
    "            xticklabels=class_labels, yticklabels=class_labels)\n",
    "plt.title(\"Confusion Matrix - Testing Set\")\n",
    "plt.xlabel(\"Predicted Label\")\n",
    "plt.ylabel(\"True Label\")\n",
    "plt.show()\n",
    "\n",
    "# Normalize the confusion matrix to get values between 0 and 1 for each class\n",
    "conf_matrix_test = conf_matrix_test.astype('float') / conf_matrix_test.sum(axis=1)[:, np.newaxis]\n",
    "# Plotting the confusion matrix for testing set\n",
    "# Get unique class labels\n",
    "plt.figure(figsize=(8, 6))\n",
    "sns.heatmap(conf_matrix_test, annot=True, fmt=\".2f\", cmap=\"viridis\", cbar=False, annot_kws={\"size\": 14},\n",
    "            xticklabels=class_labels, yticklabels=class_labels)\n",
    "\n",
    "plt.title(\"Normalized Confusion Matrix - Testing Set\")\n",
    "plt.xlabel(\"Predicted Label\")\n",
    "plt.ylabel(\"True Label\")\n",
    "plt.show()\n"
   ]
  },
  {
   "cell_type": "markdown",
   "metadata": {},
   "source": [
    "## Spatialize Prediction in GEE"
   ]
  },
  {
   "cell_type": "code",
   "execution_count": null,
   "metadata": {},
   "outputs": [],
   "source": [
    "envelope, projSite = ProjSite_ToeeGeom(workPath + \"/00_Shapefiles/wildE/europe_aggregated.gpkg\")\n",
    "\n",
    "LND_stm = Seasonal_STMs_C2(2021, projSite, 1, 12, reducer=\"all\")\n",
    "\n",
    "# Manuell die Bänder auswählen, die behalten werden sollen\n",
    "bands_to_keep = ['B_mean', 'B_stdDev', 'B_p10', 'B_p25', 'B_p50', 'B_p75', 'B_p90', 'G_mean', 'G_stdDev', 'G_p10', 'G_p25', 'G_p50', 'G_p75', 'G_p90', 'R_mean', 'R_stdDev', 'R_p10', 'R_p25', 'R_p50', 'R_p75', 'R_p90', 'NIR_mean', 'NIR_stdDev', 'NIR_p10', 'NIR_p25', 'NIR_p50', 'NIR_p75', 'NIR_p90', 'SWIR1_mean', 'SWIR1_stdDev', 'SWIR1_p10', 'SWIR1_p25', 'SWIR1_p50', 'SWIR1_p75', 'SWIR1_p90', 'SWIR2_mean', 'SWIR2_stdDev', 'SWIR2_p10', 'SWIR2_p25', 'SWIR2_p50', 'SWIR2_p75', 'SWIR2_p90', 'NDVI_mean', 'NDVI_stdDev', 'NDVI_p10', 'NDVI_p25', 'NDVI_p50', 'NDVI_p75', 'NDVI_p90', 'SWIRratio_mean', 'SWIRratio_stdDev', 'SWIRratio_p10', 'SWIRratio_p25', 'SWIRratio_p50', 'SWIRratio_p75', 'SWIRratio_p90', 'NDWI_mean', 'NDWI_stdDev', 'NDWI_p10', 'NDWI_p25', 'NDWI_p50', 'NDWI_p75', 'NDWI_p90', 'EVI_mean', 'EVI_stdDev', 'EVI_p10', 'EVI_p25', 'EVI_p50', 'EVI_p75', 'EVI_p90', 'MSAVI_mean', 'MSAVI_stdDev', 'MSAVI_p10', 'MSAVI_p25', 'MSAVI_p50', 'MSAVI_p75', 'MSAVI_p90', 'tcB_mean', 'tcB_stdDev', 'tcB_p10', 'tcB_p25', 'tcB_p50', 'tcB_p75', 'tcB_p90', 'tcG_mean', 'tcG_stdDev', 'tcG_p10', 'tcG_p25', 'tcG_p50', 'tcG_p75', 'tcG_p90', 'tcW_mean', 'tcW_stdDev', 'tcW_p10', 'tcW_p25', 'tcW_p50', 'tcW_p75', 'tcW_p90']\n",
    "\n",
    "# Die ausgewählten Bänder aus dem Regressor auswählen\n",
    "ee_regressor_modified = ee_regressor.select(bands_to_keep)\n",
    "\n",
    "# Das Modell mit den geänderten Eingabedaten verwenden\n",
    "rf_regression = LND_stm.classify(ee_regressor_modified)\n",
    "rf_regression\n",
    "\n",
    "\n",
    "rf_regression = LND_stm.classify(ee_regressor)\n",
    "rf_regression\n",
    "\n",
    "esaWC21 = ee.ImageCollection(\"ESA/WorldCover/v200\").select(['Map']).toBands().clip(projSite)\n",
    "\n",
    "# Define a color palette for ESA World Cover classes\n",
    "esa_palette = [\n",
    "    '#006400',  # Tree cover\n",
    "    '#ffbb22',  # Shrubland\n",
    "    '#ffff4c',  # Grassland\n",
    "    '#f096ff',  # Cropland\n",
    "    '#fa0000',  # Built-up\n",
    "    '#b4b4b4',  # Bare / sparse vegetation\n",
    "    '#f0f0f0',  # Snow and ice\n",
    "    '#0064c8',  # Permanent water bodies\n",
    "    '#0096a0',  # Herbaceous wetland\n",
    "    '#00cf75',  # Mangroves\n",
    "    '#fae6a0'   # Moss and lichen\n",
    "]\n",
    "\n",
    "\n",
    "esa_palette = [\n",
    "    'darkgreen',  # Tree cover\n",
    "    'green',  # Shrubland\n",
    "    'lightgreen',  # Grassland\n",
    "    'lightgreen',  # Cropland\n",
    "    'red',  # Built-up\n",
    "    'red',  # Bare / sparse vegetation\n",
    "    'blue',  # Snow and ice\n",
    "    'blue',  # Permanent water bodies\n",
    "    'lightgreen',  # Herbaceous wetland\n",
    "    'lightgreen',  # Mangroves\n",
    "    'lightgreen'   # Moss and lichen\n",
    "]\n",
    "\n",
    "# Define visualization parameters for ESA World Cover\n",
    "esa_vis_params = {\n",
    "    'min': 10,\n",
    "    'max': 100,\n",
    "    'palette': esa_palette\n",
    "}"
   ]
  },
  {
   "cell_type": "code",
   "execution_count": null,
   "metadata": {},
   "outputs": [],
   "source": [
    "import folium\n",
    "\n",
    "# Define a method for displaying Earth Engine image tiles to folium map.\n",
    "def add_ee_layer(self, ee_image_object, vis_params, name, opacity=100):\n",
    "    map_id_dict = ee.Image(ee_image_object).getMapId(vis_params)\n",
    "    folium.raster_layers.TileLayer(\n",
    "        tiles=map_id_dict['tile_fetcher'].url_format,\n",
    "        attr='Map Data &copy; <a href=\"https://earthengine.google.com/\">Google Earth Engine</a>',\n",
    "        name=name,\n",
    "        overlay=True,\n",
    "        control=True,\n",
    "        opacity=opacity  # Set the opacity here\n",
    "    ).add_to(self)\n",
    "\n",
    "# Add EE drawing method to folium.\n",
    "folium.Map.add_ee_layer = add_ee_layer\n",
    "\n",
    "# Set the center coordinates\n",
    "center_coords = projSite.centroid().coordinates().getInfo()[::-1]\n",
    "\n",
    "# Create a Folium map\n",
    "map = folium.Map(location=center_coords, zoom_start=10)\n",
    "\n",
    "# Add the satellite basemap\n",
    "folium.TileLayer('https://mt1.google.com/vt/lyrs=s&x={x}&y={y}&z={z}', attr='Google', name='Google Satellite', overlay=True).add_to(map)\n",
    "\n",
    "# Define visualization parameters\n",
    "vis_params = {\n",
    "    'min': 0,\n",
    "    'max': 1,\n",
    "    'palette': [\"#EDF8E9\", \"#C7E9C0\", \"#A1D99B\", \"#74C476\", \"#41AB5D\", \"#238B45\", \"#005A32\"]\n",
    "}\n",
    "\n",
    "# Set the opacity for the Earth Engine image layer (e.g., 0.7 for 70% opacity)\n",
    "opacity = 0.7\n",
    "\n",
    "\n",
    "# Add the ESA World Cover image to the map\n",
    "map.add_ee_layer(esaWC21, esa_vis_params, name='ESA World Cover')\n",
    "# Add the Earth Engine image to the map using folium_gee\n",
    "map.add_ee_layer(rf_regression, vis_params, name=f'classification_{year}', opacity=100)\n",
    "map.add_ee_layer(LND_stm.select([\"NDVI_mean\"]), {'min': -1, 'max': 1, 'palette': ['red', 'yellow', 'green']}, name='NDVI_mean')\n",
    "\n",
    "\n",
    "# Add a layer control to the map\n",
    "folium.LayerControl().add_to(map)\n",
    "\n",
    "\n",
    "# Display the map\n",
    "map"
   ]
  }
 ],
 "metadata": {
  "kernelspec": {
   "display_name": "wilde",
   "language": "python",
   "name": "python3"
  },
  "language_info": {
   "codemirror_mode": {
    "name": "ipython",
    "version": 3
   },
   "file_extension": ".py",
   "mimetype": "text/x-python",
   "name": "python",
   "nbconvert_exporter": "python",
   "pygments_lexer": "ipython3",
   "version": "3.11.7"
  }
 },
 "nbformat": 4,
 "nbformat_minor": 2
}
