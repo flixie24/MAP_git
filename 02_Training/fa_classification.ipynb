{
 "cells": [
  {
   "attachments": {},
   "cell_type": "markdown",
   "metadata": {},
   "source": [
    "# Training & Prediction fallow active agricultural areas\n",
    "The goal of the script is to make use of sklearns algorithms for Random Forest classifier to train and predict fallow and active agricultural areas across Europe. In Future will be upgraded with Support Vector Machine\n",
    "\n",
    "Steps\n",
    "- Import ROI \n",
    "- Load Sampling Data containing STM's and other info\n",
    "- train-test splitting\n",
    "- model training\n",
    "- prediction\n",
    "- accuracy assesment\n",
    "- Output visualization"
   ]
  },
  {
   "cell_type": "code",
   "execution_count": 1,
   "metadata": {},
   "outputs": [],
   "source": [
    "from osgeo import ogr, osr, gdal\n",
    "import geemap, ee\n",
    "import pandas as pd\n",
    "import json\n",
    "import numpy as np\n",
    "import matplotlib.pyplot as plt\n",
    "import seaborn as sns\n",
    "\n",
    "from tqdm import tqdm\n",
    "import math\n",
    "from scipy.stats import norm, gamma, f, chi2\n",
    "from functools import partial\n",
    "import concurrent.futures\n",
    "import pickle\n",
    "import logging\n",
    "from sklearn.ensemble import RandomForestClassifier\n",
    "from sklearn.metrics import roc_curve, roc_auc_score\n",
    "from sklearn.model_selection import RandomizedSearchCV, StratifiedKFold, RepeatedStratifiedKFold\n",
    "\n",
    "from scipy.stats import randint\n",
    "import joblib\n",
    "import folium\n",
    "import sys\n",
    "import os"
   ]
  },
  {
   "cell_type": "code",
   "execution_count": 2,
   "metadata": {},
   "outputs": [
    {
     "data": {
      "text/html": [
       "\n",
       "            <style>\n",
       "                .geemap-dark {\n",
       "                    --jp-widgets-color: white;\n",
       "                    --jp-widgets-label-color: white;\n",
       "                    --jp-ui-font-color1: white;\n",
       "                    --jp-layout-color2: #454545;\n",
       "                    background-color: #383838;\n",
       "                }\n",
       "                    \n",
       "                .geemap-dark .jupyter-button {\n",
       "                    --jp-layout-color3: #383838;\n",
       "                }\n",
       "                \n",
       "                .geemap-colab {\n",
       "                    background-color: var(--colab-primary-surface-color, white);\n",
       "                }\n",
       "                    \n",
       "                .geemap-colab .jupyter-button {\n",
       "                    --jp-layout-color3: var(--colab-primary-surface-color, white);\n",
       "                }\n",
       "            </style>\n",
       "            "
      ],
      "text/plain": [
       "<IPython.core.display.HTML object>"
      ]
     },
     "metadata": {},
     "output_type": "display_data"
    }
   ],
   "source": [
    "#workPath = 'D:/OneDrive - Humboldt-Universitaet zu Berlin, CMS/uni/WS_23_24/Geopy/MAP_git'\n",
    "#workPath = \"/Users/rubenbutzer/Library/CloudStorage/OneDrive-Humboldt-UniversitaetzuBerlin,CMS/uni/WS_23_24/Geopy/MAP_git\"\n",
    "#workPath = r'\\\\141.20.141.12\\SAN_BioGeo\\_HiWi\\Ruben\\wildE'\n",
    "workPath = 'E:/MAP_git'"
   ]
  },
  {
   "cell_type": "code",
   "execution_count": 3,
   "metadata": {},
   "outputs": [
    {
     "data": {
      "text/html": [
       "\n",
       "            <style>\n",
       "                .geemap-dark {\n",
       "                    --jp-widgets-color: white;\n",
       "                    --jp-widgets-label-color: white;\n",
       "                    --jp-ui-font-color1: white;\n",
       "                    --jp-layout-color2: #454545;\n",
       "                    background-color: #383838;\n",
       "                }\n",
       "                    \n",
       "                .geemap-dark .jupyter-button {\n",
       "                    --jp-layout-color3: #383838;\n",
       "                }\n",
       "                \n",
       "                .geemap-colab {\n",
       "                    background-color: var(--colab-primary-surface-color, white);\n",
       "                }\n",
       "                    \n",
       "                .geemap-colab .jupyter-button {\n",
       "                    --jp-layout-color3: var(--colab-primary-surface-color, white);\n",
       "                }\n",
       "            </style>\n",
       "            "
      ],
      "text/plain": [
       "<IPython.core.display.HTML object>"
      ]
     },
     "metadata": {},
     "output_type": "display_data"
    }
   ],
   "source": [
    "sys.path.append(workPath)\n",
    "from tools import *\n",
    "from tools_butzerru import *"
   ]
  },
  {
   "cell_type": "code",
   "execution_count": 4,
   "metadata": {},
   "outputs": [
    {
     "data": {
      "text/html": [
       "\n",
       "            <style>\n",
       "                .geemap-dark {\n",
       "                    --jp-widgets-color: white;\n",
       "                    --jp-widgets-label-color: white;\n",
       "                    --jp-ui-font-color1: white;\n",
       "                    --jp-layout-color2: #454545;\n",
       "                    background-color: #383838;\n",
       "                }\n",
       "                    \n",
       "                .geemap-dark .jupyter-button {\n",
       "                    --jp-layout-color3: #383838;\n",
       "                }\n",
       "                \n",
       "                .geemap-colab {\n",
       "                    background-color: var(--colab-primary-surface-color, white);\n",
       "                }\n",
       "                    \n",
       "                .geemap-colab .jupyter-button {\n",
       "                    --jp-layout-color3: var(--colab-primary-surface-color, white);\n",
       "                }\n",
       "            </style>\n",
       "            "
      ],
      "text/plain": [
       "<IPython.core.display.HTML object>"
      ]
     },
     "metadata": {},
     "output_type": "display_data"
    }
   ],
   "source": [
    "try:\n",
    "    ee.Initialize()\n",
    "except Exception as e:\n",
    "    ee.Authenticate()\n",
    "    ee.Initialize()"
   ]
  },
  {
   "attachments": {},
   "cell_type": "markdown",
   "metadata": {},
   "source": [
    "### Einladen der Sampling Daten\n",
    "\n",
    "- hier kann schon gewählt werden, welche Seasons eingeladen werden sollen.\n",
    "\n",
    "- weiterhin kann mit max_subset_size stattdessen ein subset geladen werden für schnelleres Prozessieren. Dafür muss if True gesetzt sein. "
   ]
  },
  {
   "cell_type": "code",
   "execution_count": 5,
   "metadata": {},
   "outputs": [
    {
     "data": {
      "text/html": [
       "\n",
       "            <style>\n",
       "                .geemap-dark {\n",
       "                    --jp-widgets-color: white;\n",
       "                    --jp-widgets-label-color: white;\n",
       "                    --jp-ui-font-color1: white;\n",
       "                    --jp-layout-color2: #454545;\n",
       "                    background-color: #383838;\n",
       "                }\n",
       "                    \n",
       "                .geemap-dark .jupyter-button {\n",
       "                    --jp-layout-color3: #383838;\n",
       "                }\n",
       "                \n",
       "                .geemap-colab {\n",
       "                    background-color: var(--colab-primary-surface-color, white);\n",
       "                }\n",
       "                    \n",
       "                .geemap-colab .jupyter-button {\n",
       "                    --jp-layout-color3: var(--colab-primary-surface-color, white);\n",
       "                }\n",
       "            </style>\n",
       "            "
      ],
      "text/plain": [
       "<IPython.core.display.HTML object>"
      ]
     },
     "metadata": {},
     "output_type": "display_data"
    },
    {
     "name": "stdout",
     "output_type": "stream",
     "text": [
      "Loading data from pickle E:/MAP_git\\02_Training\\train_pickle\\LUCAS_random_sample_3-9_100000.pkl...\n",
      "Training data:\n",
      "          B_mean     B_p10     B_p25     B_p50     B_p75     B_p90  B_stdDev   \n",
      "282238  0.050944  0.035950  0.042894  0.049796  0.061580  0.064302  0.011544  \\\n",
      "111169  0.033231  0.018845  0.027026  0.032897  0.040597  0.045960  0.008562   \n",
      "278814  0.073652  0.071315  0.071315  0.073652  0.075990  0.075990  0.002338   \n",
      "387586  0.051051  0.016287  0.030450  0.049947  0.081297  0.090730  0.035128   \n",
      "352444  0.046974  0.031358  0.040556  0.045974  0.052230  0.068647  0.015688   \n",
      "...          ...       ...       ...       ...       ...       ...       ...   \n",
      "44120   0.114156  0.040322  0.045437  0.068716  0.090482  0.115975  0.170260   \n",
      "347878  0.100478  0.083058  0.091940  0.101455  0.108963  0.115837  0.012925   \n",
      "418998  0.102600  0.078740  0.095295  0.109017  0.113830  0.121173  0.027340   \n",
      "88520   0.042691  0.014390  0.027837  0.042591  0.057180  0.085780  0.054023   \n",
      "359451  0.073253  0.018955  0.029405  0.044640  0.055255  0.160085  0.096584   \n",
      "\n",
      "                DEM  EVI_mean   EVI_p10  ...   tcW_p25   tcW_p50   tcW_p75   \n",
      "282238   411.667084  0.324099  0.173182  ... -0.114859 -0.096788 -0.016432  \\\n",
      "111169   504.979553  0.567179  0.289868  ... -0.095958 -0.008049  0.008101   \n",
      "278814     0.680770  0.245655  0.237734  ... -0.140547 -0.128507 -0.116467   \n",
      "387586    87.020477  0.326673  0.128854  ... -0.188558 -0.037448  0.019660   \n",
      "352444   398.468994  0.456291  0.288569  ... -0.081903 -0.047328 -0.015891   \n",
      "...             ...       ...       ...  ...       ...       ...       ...   \n",
      "44120      0.700752  0.339586  0.094470  ... -0.143329 -0.042330  0.028430   \n",
      "347878    28.538845  0.186205  0.145785  ... -0.173364 -0.162312 -0.147423   \n",
      "418998   146.226288  0.190378  0.146733  ... -0.186253 -0.176029 -0.101026   \n",
      "88520     15.952264  0.364786  0.168868  ... -0.087434 -0.044872 -0.004957   \n",
      "359451  1774.898926  0.411860 -0.014401  ... -0.078544 -0.060838 -0.006133   \n",
      "\n",
      "         tcW_p90  tcW_stdDev    x_coord    y_coord  year  land_use_classes   \n",
      "282238  0.007939    0.061394   2.801800  43.864960  2012            active  \\\n",
      "111169  0.011803    0.057343  -7.838385  43.010662  2018            active   \n",
      "278814 -0.116467    0.012040  -0.129492  52.649944  2012            active   \n",
      "387586  0.066028    0.103835  16.343364  52.207973  2015            active   \n",
      "352444  0.003897    0.043213   0.681148  43.222485  2015            active   \n",
      "...          ...         ...        ...        ...   ...               ...   \n",
      "44120   0.045368    0.096598   3.814292  51.494891  2018            active   \n",
      "347878 -0.127266    0.024827  -0.650964  38.134427  2015            active   \n",
      "418998 -0.065401    0.055739  -4.640023  36.681582  2018            fallow   \n",
      "88520   0.007572    0.046649  23.754465  60.125185  2018            active   \n",
      "359451  0.117058    0.098835   0.047027  42.726345  2015            active   \n",
      "\n",
      "        season  \n",
      "282238     3-9  \n",
      "111169     3-9  \n",
      "278814     3-9  \n",
      "387586     3-9  \n",
      "352444     3-9  \n",
      "...        ...  \n",
      "44120      3-9  \n",
      "347878     3-9  \n",
      "418998     3-9  \n",
      "88520      3-9  \n",
      "359451     3-9  \n",
      "\n",
      "[100000 rows x 155 columns]\n"
     ]
    }
   ],
   "source": [
    "# Definiere eine Liste von Seasons, die du verwenden möchtest\n",
    "desired_seasons = ['3-9']\n",
    "\n",
    "# Konvertiere die gewünschten Jahreszeiten in einen lesbaren String\n",
    "seasons_str = '_'.join(desired_seasons)\n",
    "\n",
    "# Optional: Definiere die maximale Größe des zwischengespeicherten Subsets\n",
    "#max_subset_size = 'all'\n",
    "max_subset_size = 100000\n",
    "\n",
    "# Definiere den Pfad zur LUCAS-Beispieldatei im CSV-Format\n",
    "path = os.path.join(workPath, '01_Sampling', 'lucas_points', 'LUCAS_sample_Both_Classes_All.csv')\n",
    "\n",
    "#sampling_data = pd.read_csv(path)\n",
    "\n",
    "\n",
    "# Überprüfe, ob das Pickle bereits vorhanden ist\n",
    "pickle_file_name = f\"LUCAS_random_sample_{seasons_str}\"\n",
    "if max_subset_size != 'all':\n",
    "    if max_subset_size > 1774881:\n",
    "        print(\"Die gewünschte Sample-Größe ist größer als die verfügbaren Daten. Bitte 'all' bei desired_seasons eingeben.\")\n",
    "        desired_seasons = 'all'\n",
    "    else:\n",
    "        pickle_file_name += f\"_{max_subset_size}\"\n",
    "pickle_file_name += \".pkl\"\n",
    "pickle_path = os.path.join(workPath, \"02_Training\", \"train_pickle\", pickle_file_name)\n",
    "\n",
    "if os.path.exists(pickle_path):\n",
    "    print(f\"Loading data from pickle {pickle_path}...\")\n",
    "    # Lade das Pickle direkt, wenn vorhanden\n",
    "    training_data = pd.read_pickle(pickle_path)\n",
    "\n",
    "    # Entferne Duplikate und fehlende Werte aus den Trainingsdaten\n",
    "    training_data = training_data.drop_duplicates().dropna()\n",
    "\n",
    "    # Ersetze den Wert \"agriculture\" in der Spalte 'land_use_classes' durch \"active\"\n",
    "    training_data['land_use_classes'] = training_data['land_use_classes'].replace('agriculture', 'active')\n",
    "else:\n",
    "    print(\"Pickle file not found. Generating training data...\")\n",
    "    # Lade die CSV-Datei als Pandas DataFrame\n",
    "    sampling_data = pd.read_csv(path)\n",
    "\n",
    "    # Initialisiere eine leere DataFrame, um die gefilterten Daten zu speichern\n",
    "    training_data = pd.DataFrame()\n",
    "\n",
    "    # Iteriere über jede Season und filtere die Daten entsprechend\n",
    "    for season in desired_seasons:\n",
    "        # Filtere die Daten für die aktuelle Season\n",
    "        season_data = sampling_data[sampling_data['season'] == season]\n",
    "\n",
    "        # Füge die gefilterten Daten zur DataFrame hinzu\n",
    "        training_data = pd.concat([training_data, season_data], ignore_index=True)\n",
    "\n",
    "    # Erzeuge ein zufälliges Subset der Trainingsdaten, wenn die maximale Größe nicht 'all' ist\n",
    "    if max_subset_size != 'all' and len(training_data) > max_subset_size:\n",
    "        subset_data = training_data.sample(n=max_subset_size, random_state=42)\n",
    "    else:\n",
    "        subset_data = training_data\n",
    "    \n",
    "    # Speichere das Subset als Pickle-Datei\n",
    "    subset_data.to_pickle(pickle_path)\n",
    "\n",
    "    # Verwende das zwischengespeicherte Subset als Trainingsdaten\n",
    "    training_data = subset_data\n",
    "\n",
    "    # Entferne Duplikate und fehlende Werte aus den Trainingsdaten\n",
    "    training_data = training_data.drop_duplicates().dropna()\n",
    "\n",
    "    # Ersetze den Wert \"agriculture\" in der Spalte 'land_use_classes' durch \"active\"\n",
    "    training_data['land_use_classes'] = training_data['land_use_classes'].replace('agriculture', 'active')\n",
    "\n",
    "# Zeige die gefilterten Trainingsdaten an\n",
    "print(\"Training data:\")\n",
    "print(training_data)\n"
   ]
  },
  {
   "attachments": {},
   "cell_type": "markdown",
   "metadata": {},
   "source": [
    "#### Optional: Remove cover classes that are not wanted"
   ]
  },
  {
   "cell_type": "code",
   "execution_count": 6,
   "metadata": {},
   "outputs": [
    {
     "data": {
      "text/html": [
       "\n",
       "            <style>\n",
       "                .geemap-dark {\n",
       "                    --jp-widgets-color: white;\n",
       "                    --jp-widgets-label-color: white;\n",
       "                    --jp-ui-font-color1: white;\n",
       "                    --jp-layout-color2: #454545;\n",
       "                    background-color: #383838;\n",
       "                }\n",
       "                    \n",
       "                .geemap-dark .jupyter-button {\n",
       "                    --jp-layout-color3: #383838;\n",
       "                }\n",
       "                \n",
       "                .geemap-colab {\n",
       "                    background-color: var(--colab-primary-surface-color, white);\n",
       "                }\n",
       "                    \n",
       "                .geemap-colab .jupyter-button {\n",
       "                    --jp-layout-color3: var(--colab-primary-surface-color, white);\n",
       "                }\n",
       "            </style>\n",
       "            "
      ],
      "text/plain": [
       "<IPython.core.display.HTML object>"
      ]
     },
     "metadata": {},
     "output_type": "display_data"
    },
    {
     "data": {
      "text/plain": [
       "array(['B18', 'E20', 'B11', 'B13', 'B74', 'B16', 'B15', 'F00', 'B81',\n",
       "       'B22', 'E10', 'B82', 'B33', 'E30', 'B51', 'B14', 'BX1', 'A22',\n",
       "       'B54', 'F40', 'B21', 'B32', 'D10', 'B55', 'B31', 'C10', 'D20',\n",
       "       'B52', 'B23', 'B19', 'B53', 'B76', 'B72', 'B75', 'B41', 'B12',\n",
       "       'B35', 'B34', 'B73', 'B84', 'B43', 'B45', 'A11', 'A13', 'B44',\n",
       "       'B71', 'B42', 'B36', 'A21', 'C21', 'B37', 'B77', 'G11', 'B83',\n",
       "       'G21', 'B17', 'C20', 'C22', 'BX2', 'G20', 'C30', 'C31', 'C32',\n",
       "       'C33', 'H21', 'G10', 'F10', 'F30', 'C23', 'F20', 'A30'],\n",
       "      dtype=object)"
      ]
     },
     "execution_count": 6,
     "metadata": {},
     "output_type": "execute_result"
    }
   ],
   "source": [
    "training_data[\"lc1\"].unique()"
   ]
  },
  {
   "cell_type": "markdown",
   "metadata": {},
   "source": [
    "- A : Artificial\n",
    "- B : Crop\n",
    "- C : Woodland\n",
    "- D : Shrubland\n",
    "- E : Grassland\n",
    "- F : Bare Land\n",
    "- G : Water\n",
    "- H : Wetland\n"
   ]
  },
  {
   "attachments": {},
   "cell_type": "markdown",
   "metadata": {},
   "source": [
    "removing all classes apart from Cropland, Grassland, Shrubland, Bare Land\n",
    "\n"
   ]
  },
  {
   "cell_type": "code",
   "execution_count": 7,
   "metadata": {},
   "outputs": [
    {
     "data": {
      "text/html": [
       "\n",
       "            <style>\n",
       "                .geemap-dark {\n",
       "                    --jp-widgets-color: white;\n",
       "                    --jp-widgets-label-color: white;\n",
       "                    --jp-ui-font-color1: white;\n",
       "                    --jp-layout-color2: #454545;\n",
       "                    background-color: #383838;\n",
       "                }\n",
       "                    \n",
       "                .geemap-dark .jupyter-button {\n",
       "                    --jp-layout-color3: #383838;\n",
       "                }\n",
       "                \n",
       "                .geemap-colab {\n",
       "                    background-color: var(--colab-primary-surface-color, white);\n",
       "                }\n",
       "                    \n",
       "                .geemap-colab .jupyter-button {\n",
       "                    --jp-layout-color3: var(--colab-primary-surface-color, white);\n",
       "                }\n",
       "            </style>\n",
       "            "
      ],
      "text/plain": [
       "<IPython.core.display.HTML object>"
      ]
     },
     "metadata": {},
     "output_type": "display_data"
    },
    {
     "data": {
      "text/plain": [
       "array(['B18', 'E20', 'B11', 'B13', 'B74', 'B16', 'B15', 'F00', 'B81',\n",
       "       'B22', 'E10', 'B82', 'B33', 'E30', 'B51', 'B14', 'BX1', 'B54',\n",
       "       'F40', 'B21', 'B32', 'D10', 'B55', 'B31', 'D20', 'B52', 'B23',\n",
       "       'B19', 'B53', 'B76', 'B72', 'B75', 'B41', 'B12', 'B35', 'B34',\n",
       "       'B73', 'B84', 'B43', 'B45', 'B44', 'B71', 'B42', 'B36', 'B37',\n",
       "       'B77', 'B83', 'B17', 'BX2', 'F10', 'F30', 'F20'], dtype=object)"
      ]
     },
     "execution_count": 7,
     "metadata": {},
     "output_type": "execute_result"
    }
   ],
   "source": [
    "# filter out Water, Wetland, Artificial, Woodland\n",
    "training_data = training_data[training_data['lc1'].str.startswith(('B', 'D', 'E', 'F'), na=False)] \n",
    "training_data\n",
    "training_data[\"lc1\"].unique()\n"
   ]
  },
  {
   "cell_type": "code",
   "execution_count": 8,
   "metadata": {},
   "outputs": [
    {
     "data": {
      "text/html": [
       "\n",
       "            <style>\n",
       "                .geemap-dark {\n",
       "                    --jp-widgets-color: white;\n",
       "                    --jp-widgets-label-color: white;\n",
       "                    --jp-ui-font-color1: white;\n",
       "                    --jp-layout-color2: #454545;\n",
       "                    background-color: #383838;\n",
       "                }\n",
       "                    \n",
       "                .geemap-dark .jupyter-button {\n",
       "                    --jp-layout-color3: #383838;\n",
       "                }\n",
       "                \n",
       "                .geemap-colab {\n",
       "                    background-color: var(--colab-primary-surface-color, white);\n",
       "                }\n",
       "                    \n",
       "                .geemap-colab .jupyter-button {\n",
       "                    --jp-layout-color3: var(--colab-primary-surface-color, white);\n",
       "                }\n",
       "            </style>\n",
       "            "
      ],
      "text/plain": [
       "<IPython.core.display.HTML object>"
      ]
     },
     "metadata": {},
     "output_type": "display_data"
    },
    {
     "data": {
      "text/plain": [
       "(98360, 155)"
      ]
     },
     "execution_count": 8,
     "metadata": {},
     "output_type": "execute_result"
    }
   ],
   "source": [
    "training_data.shape"
   ]
  },
  {
   "attachments": {},
   "cell_type": "markdown",
   "metadata": {},
   "source": [
    "#### Optional:  Equalize number of training points per Land cover class"
   ]
  },
  {
   "cell_type": "code",
   "execution_count": 9,
   "metadata": {},
   "outputs": [
    {
     "data": {
      "text/html": [
       "\n",
       "            <style>\n",
       "                .geemap-dark {\n",
       "                    --jp-widgets-color: white;\n",
       "                    --jp-widgets-label-color: white;\n",
       "                    --jp-ui-font-color1: white;\n",
       "                    --jp-layout-color2: #454545;\n",
       "                    background-color: #383838;\n",
       "                }\n",
       "                    \n",
       "                .geemap-dark .jupyter-button {\n",
       "                    --jp-layout-color3: #383838;\n",
       "                }\n",
       "                \n",
       "                .geemap-colab {\n",
       "                    background-color: var(--colab-primary-surface-color, white);\n",
       "                }\n",
       "                    \n",
       "                .geemap-colab .jupyter-button {\n",
       "                    --jp-layout-color3: var(--colab-primary-surface-color, white);\n",
       "                }\n",
       "            </style>\n",
       "            "
      ],
      "text/plain": [
       "<IPython.core.display.HTML object>"
      ]
     },
     "metadata": {},
     "output_type": "display_data"
    }
   ],
   "source": [
    "# # Determine the minimum number of observations for a class\n",
    "# min_obs = training_data['land_use_classes'].value_counts().min()\n",
    "\n",
    "# # Create a new DataFrame with an equal number of rows per class\n",
    "# training_data = pd.concat([group.sample(min_obs) for _, group in training_data.groupby('land_use_classes')])"
   ]
  },
  {
   "attachments": {},
   "cell_type": "markdown",
   "metadata": {},
   "source": [
    "## Visualizing the Data"
   ]
  },
  {
   "attachments": {},
   "cell_type": "markdown",
   "metadata": {},
   "source": [
    "#### Plot the distribution of training data per landcover type and year"
   ]
  },
  {
   "cell_type": "code",
   "execution_count": 10,
   "metadata": {},
   "outputs": [
    {
     "data": {
      "text/html": [
       "\n",
       "            <style>\n",
       "                .geemap-dark {\n",
       "                    --jp-widgets-color: white;\n",
       "                    --jp-widgets-label-color: white;\n",
       "                    --jp-ui-font-color1: white;\n",
       "                    --jp-layout-color2: #454545;\n",
       "                    background-color: #383838;\n",
       "                }\n",
       "                    \n",
       "                .geemap-dark .jupyter-button {\n",
       "                    --jp-layout-color3: #383838;\n",
       "                }\n",
       "                \n",
       "                .geemap-colab {\n",
       "                    background-color: var(--colab-primary-surface-color, white);\n",
       "                }\n",
       "                    \n",
       "                .geemap-colab .jupyter-button {\n",
       "                    --jp-layout-color3: var(--colab-primary-surface-color, white);\n",
       "                }\n",
       "            </style>\n",
       "            "
      ],
      "text/plain": [
       "<IPython.core.display.HTML object>"
      ]
     },
     "metadata": {},
     "output_type": "display_data"
    },
    {
     "name": "stderr",
     "output_type": "stream",
     "text": [
      "c:\\Users\\Ruben\\.conda\\envs\\wilde\\Lib\\site-packages\\seaborn\\axisgrid.py:854: FutureWarning: \n",
      "\n",
      "Passing `palette` without assigning `hue` is deprecated and will be removed in v0.14.0. Assign the `x` variable to `hue` and set `legend=False` for the same effect.\n",
      "\n",
      "  func(*plot_args, **plot_kwargs)\n",
      "c:\\Users\\Ruben\\.conda\\envs\\wilde\\Lib\\site-packages\\seaborn\\axisgrid.py:854: FutureWarning: \n",
      "\n",
      "Passing `palette` without assigning `hue` is deprecated and will be removed in v0.14.0. Assign the `x` variable to `hue` and set `legend=False` for the same effect.\n",
      "\n",
      "  func(*plot_args, **plot_kwargs)\n"
     ]
    },
    {
     "data": {
      "image/png": "[encoded data removed]",
      "text/plain": [
       "<Figure size 1000x500 with 2 Axes>"
      ]
     },
     "metadata": {},
     "output_type": "display_data"
    }
   ],
   "source": [
    "import seaborn as sns\n",
    "import matplotlib.pyplot as plt\n",
    "\n",
    "# Set the style of seaborn\n",
    "sns.set(style=\"whitegrid\")\n",
    "\n",
    "# Function to plot data for the single season\n",
    "def plot_season_data(data):\n",
    "    # Get the unique value from the \"season\" column\n",
    "    season_name = data['season'].unique()[0]  # Assuming only one unique value for the season\n",
    "\n",
    "    # Get the maximum count of observations for setting ylim\n",
    "    max_count = data.groupby(['land_use_classes', 'year']).size().max()\n",
    "\n",
    "    # Calculate the total number of rows per cover class\n",
    "    total_per_class = data['land_use_classes'].value_counts()\n",
    "\n",
    "    # Determine the number of unique land_use_classes\n",
    "    num_land_use_classes = len(data['land_use_classes'].unique())\n",
    "\n",
    "    # Calculate the number of columns based on the number of unique land_use_classes\n",
    "    col_wrap = min(5, num_land_use_classes)\n",
    "\n",
    "    # Create a facet grid with seaborn\n",
    "    g = sns.FacetGrid(data, col=\"land_use_classes\", col_wrap=col_wrap, height=5, sharey=False)\n",
    "\n",
    "    # Map a bar plot for the number of observations per year, color by year\n",
    "    g.map(sns.countplot, \"year\", order=sorted(data['year'].unique()), palette=\"viridis\", legend=False)\n",
    "\n",
    "    # Set titles and labels\n",
    "    g.set_axis_labels(\"Year\", \"Count\")\n",
    "    g.set_titles(col_template=\"{col_name}\")\n",
    "    plt.subplots_adjust(wspace=0.2)\n",
    "    g.fig.suptitle(f\"Yearly Fallow and Active Numbers for {season_name} Season\", fontsize=16, y=1.02)  # Hier wurde die Überschrift angepasst\n",
    "\n",
    "    # Set different ylim for the fallow subplot\n",
    "    for ax, (cover_class, total_obs) in zip(g.axes.flat, total_per_class.items()):\n",
    "        ax.set(ylim=(0, total_obs))\n",
    "        \n",
    "        # Annotate each subplot with the total number of observations per cover class\n",
    "        ax.text(0.5, -0.2, f'n={total_obs}', transform=ax.transAxes, ha='center', va='baseline')\n",
    "\n",
    "    # Show the plot\n",
    "    plt.show()\n",
    "\n",
    "# Plot für die einzelne Saison\n",
    "plot_season_data(training_data)\n"
   ]
  },
  {
   "cell_type": "markdown",
   "metadata": {},
   "source": [
    "DO NOT USE unless you want to do modeling using multiple seasons "
   ]
  },
  {
   "cell_type": "code",
   "execution_count": 11,
   "metadata": {},
   "outputs": [
    {
     "data": {
      "text/html": [
       "\n",
       "            <style>\n",
       "                .geemap-dark {\n",
       "                    --jp-widgets-color: white;\n",
       "                    --jp-widgets-label-color: white;\n",
       "                    --jp-ui-font-color1: white;\n",
       "                    --jp-layout-color2: #454545;\n",
       "                    background-color: #383838;\n",
       "                }\n",
       "                    \n",
       "                .geemap-dark .jupyter-button {\n",
       "                    --jp-layout-color3: #383838;\n",
       "                }\n",
       "                \n",
       "                .geemap-colab {\n",
       "                    background-color: var(--colab-primary-surface-color, white);\n",
       "                }\n",
       "                    \n",
       "                .geemap-colab .jupyter-button {\n",
       "                    --jp-layout-color3: var(--colab-primary-surface-color, white);\n",
       "                }\n",
       "            </style>\n",
       "            "
      ],
      "text/plain": [
       "<IPython.core.display.HTML object>"
      ]
     },
     "metadata": {},
     "output_type": "display_data"
    }
   ],
   "source": [
    "# import seaborn as sns\n",
    "# import matplotlib.pyplot as plt\n",
    "\n",
    "# # Filter data for Seasons\n",
    "# early_season_data= training_data[training_data['season'] == '3-5']\n",
    "# mid_season_data  = training_data[training_data['season'] == '5-7']\n",
    "# late_season_data = training_data[training_data['season'] == '7-9']\n",
    "# full_season_data = training_data[training_data['season'] == '3-9']\n",
    "\n",
    "# # Set the style of seaborn\n",
    "# sns.set(style=\"whitegrid\")\n",
    "\n",
    "# # Function to plot data for each season\n",
    "# def plot_season_data_multiple(data, season_name):\n",
    "#     # Get the maximum count of observations for setting ylim\n",
    "#     max_count = data.groupby(['land_use_classes', 'year']).size().max()\n",
    "\n",
    "#     # Calculate the total number of rows per cover class\n",
    "#     total_per_class = data['land_use_classes'].value_counts()\n",
    "\n",
    "#     # Determine the number of unique land_use_classes\n",
    "#     num_land_use_classes = len(data['land_use_classes'].unique())\n",
    "\n",
    "#     # Calculate the number of columns based on the number of unique land_use_classes\n",
    "#     col_wrap = min(5, num_land_use_classes)\n",
    "\n",
    "#     # Create a facet grid with seaborn\n",
    "#     g = sns.FacetGrid(data, col=\"land_use_classes\", col_wrap=col_wrap, height=5, sharey=False)\n",
    "\n",
    "#     # Map a bar plot for the number of observations per year, color by year\n",
    "#     g.map(sns.countplot, \"year\", order=sorted(data['year'].unique()), palette=\"viridis\", legend = False)\n",
    "\n",
    "#     # Set titles and labels\n",
    "#     g.set_axis_labels(\"Year\", \"Count\")\n",
    "#     g.set_titles(col_template=\"{col_name}\")\n",
    "#     plt.subplots_adjust(wspace=0.2)\n",
    "#     g.fig.suptitle(f\"Yearly Fallow and Active Numbers for {season_name}\", fontsize=16, y=1.02)\n",
    "\n",
    "#     # Set different ylim for the fallow subplot\n",
    "#     for ax, (cover_class, total_obs) in zip(g.axes.flat, total_per_class.items()):\n",
    "#         ax.set(ylim=(0, total_obs))\n",
    "        \n",
    "#         # Annotate each subplot with the total number of observations per cover class\n",
    "#         ax.text(0.5, -0.2, f'n={total_obs}', transform=ax.transAxes, ha='center', va='baseline')\n",
    "\n",
    "#     # Show the plot\n",
    "#     plt.show()\n",
    "\n",
    "\n",
    "\n",
    "# # Plot für Alles\n",
    "# #plot_season_data_multiple(training_data, \"All Seasons Combined\")\n",
    "\n",
    "# # Plot for Early Season (3-5)\n",
    "# #plot_season_data_multiple(early_season_data, \"Early Season\")\n",
    "\n",
    "# # Plot for Mid-Season (5-7)\n",
    "# #plot_season_data_multiple(mid_season_data, \"Mid-Season\")\n",
    "\n",
    "# # Plot for Late Season (7-9)\n",
    "# #plot_season_data_multiple(late_season_data, \"Late Season\")\n",
    "\n",
    "# # Plot for Full-Season (3-9)\n",
    "# #plot_season_data_multiple(full_season_data, f\"Full-Season ({max_subset_size} samples)\")\n"
   ]
  },
  {
   "attachments": {},
   "cell_type": "markdown",
   "metadata": {},
   "source": [
    "#### welche Land-Covers kommen wie häufig vor bei Fallow und Active (lc1) ? "
   ]
  },
  {
   "cell_type": "code",
   "execution_count": 12,
   "metadata": {},
   "outputs": [
    {
     "data": {
      "text/html": [
       "\n",
       "            <style>\n",
       "                .geemap-dark {\n",
       "                    --jp-widgets-color: white;\n",
       "                    --jp-widgets-label-color: white;\n",
       "                    --jp-ui-font-color1: white;\n",
       "                    --jp-layout-color2: #454545;\n",
       "                    background-color: #383838;\n",
       "                }\n",
       "                    \n",
       "                .geemap-dark .jupyter-button {\n",
       "                    --jp-layout-color3: #383838;\n",
       "                }\n",
       "                \n",
       "                .geemap-colab {\n",
       "                    background-color: var(--colab-primary-surface-color, white);\n",
       "                }\n",
       "                    \n",
       "                .geemap-colab .jupyter-button {\n",
       "                    --jp-layout-color3: var(--colab-primary-surface-color, white);\n",
       "                }\n",
       "            </style>\n",
       "            "
      ],
      "text/plain": [
       "<IPython.core.display.HTML object>"
      ]
     },
     "metadata": {},
     "output_type": "display_data"
    },
    {
     "name": "stderr",
     "output_type": "stream",
     "text": [
      "c:\\Users\\Ruben\\.conda\\envs\\wilde\\Lib\\site-packages\\seaborn\\axisgrid.py:854: FutureWarning: \n",
      "\n",
      "Passing `palette` without assigning `hue` is deprecated and will be removed in v0.14.0. Assign the `x` variable to `hue` and set `legend=False` for the same effect.\n",
      "\n",
      "  func(*plot_args, **plot_kwargs)\n",
      "c:\\Users\\Ruben\\.conda\\envs\\wilde\\Lib\\site-packages\\seaborn\\axisgrid.py:854: FutureWarning: \n",
      "\n",
      "Passing `palette` without assigning `hue` is deprecated and will be removed in v0.14.0. Assign the `x` variable to `hue` and set `legend=False` for the same effect.\n",
      "\n",
      "  func(*plot_args, **plot_kwargs)\n",
      "c:\\Users\\Ruben\\.conda\\envs\\wilde\\Lib\\site-packages\\seaborn\\axisgrid.py:854: FutureWarning: \n",
      "\n",
      "Passing `palette` without assigning `hue` is deprecated and will be removed in v0.14.0. Assign the `x` variable to `hue` and set `legend=False` for the same effect.\n",
      "\n",
      "  func(*plot_args, **plot_kwargs)\n",
      "c:\\Users\\Ruben\\.conda\\envs\\wilde\\Lib\\site-packages\\seaborn\\axisgrid.py:854: FutureWarning: \n",
      "\n",
      "Passing `palette` without assigning `hue` is deprecated and will be removed in v0.14.0. Assign the `x` variable to `hue` and set `legend=False` for the same effect.\n",
      "\n",
      "  func(*plot_args, **plot_kwargs)\n"
     ]
    },
    {
     "data": {
      "image/png": "[encoded data removed]",
      "text/plain": [
       "<Figure size 1200x300 with 4 Axes>"
      ]
     },
     "metadata": {},
     "output_type": "display_data"
    }
   ],
   "source": [
    "import seaborn as sns\n",
    "import matplotlib.pyplot as plt\n",
    "\n",
    "# Set the style of seaborn\n",
    "sns.set(style=\"whitegrid\")\n",
    "\n",
    "# Function to plot data for each season\n",
    "def plot_landcover_occ(data):\n",
    "    # Copy the data\n",
    "    data_plot = data.copy()\n",
    "    \n",
    "    # Add a new column 'lc1_grouped' containing only the first letter of 'lc1'\n",
    "    data_plot['lc1_grouped'] = data['lc1'].str[0]\n",
    "\n",
    "    # Mapping 'lc1_grouped' to the desired legend\n",
    "    legend_mapping = {'A': 'Artificial',\n",
    "                      'B': 'Cropland',\n",
    "                      'C': 'Woodland',\n",
    "                      'D': 'Shrubland',\n",
    "                      'E': 'Grassland',\n",
    "                      'F': 'Bare Land',\n",
    "                      'G': 'Water',\n",
    "                      'H': 'Wetlands'}\n",
    "\n",
    "    # Rename the categories in the 'lc1_grouped' column\n",
    "    data_plot['lc1_grouped'] = data_plot['lc1_grouped'].map(legend_mapping)\n",
    "\n",
    "    # Get the maximum count of observations for setting ylim\n",
    "    max_count = data_plot.groupby(['lc1_grouped', 'land_use_classes']).size().max()\n",
    "\n",
    "    # Calculate the total number of rows per cover class\n",
    "    total_per_class = data_plot['lc1_grouped'].value_counts()\n",
    "\n",
    "    # Create a facet grid with seaborn\n",
    "    g = sns.FacetGrid(data_plot, col=\"lc1_grouped\", col_wrap=4, height=3, sharey=False)\n",
    "\n",
    "    # Map a bar plot for the number of observations per class, color by class\n",
    "    g.map(sns.countplot, \"land_use_classes\", order=sorted(data_plot['land_use_classes'].unique()), palette={\"active\": \"green\", \"fallow\": \"brown\"}, legend=False)\n",
    "\n",
    "    # Set titles and labels\n",
    "    g.set_axis_labels('', \"Count\")\n",
    "    g.set_titles(col_template=\"{col_name}\")\n",
    "    plt.subplots_adjust(top=0.88)  # Adjust the top margin to make room for title\n",
    "\n",
    "    # Annotate each subplot with the total number of observations per cover class\n",
    "    for ax, (cover_class, total_obs) in zip(g.axes.flat, total_per_class.items()):\n",
    "        #ax.text(0.5, 1.1, f'n={total_obs:.0f}', transform=ax.transAxes, ha='center', va='baseline')\n",
    "        \n",
    "        # Add counts on top of the bars\n",
    "        for p in ax.patches:\n",
    "            ax.annotate(f'{int(p.get_height())}', (p.get_x() + p.get_width() / 2., p.get_height()),\n",
    "                        ha='center', va='center', fontsize=8, color='black', xytext=(0, 5),\n",
    "                        textcoords='offset points')\n",
    "\n",
    "    # Show the plot with a dynamic title based on the content of the 'season' column\n",
    "    plt.suptitle(f\"Fallow-Active Distribution per Land Cover Class \", fontsize=16, y=1.05)  # Move the title up\n",
    "    plt.show()\n",
    "\n",
    "# Plot Data\n",
    "plot_landcover_occ(training_data)\n"
   ]
  },
  {
   "cell_type": "markdown",
   "metadata": {},
   "source": [
    "DO NOT USE unless you want to do modeling using multiple seasons "
   ]
  },
  {
   "cell_type": "code",
   "execution_count": 13,
   "metadata": {},
   "outputs": [
    {
     "data": {
      "text/html": [
       "\n",
       "            <style>\n",
       "                .geemap-dark {\n",
       "                    --jp-widgets-color: white;\n",
       "                    --jp-widgets-label-color: white;\n",
       "                    --jp-ui-font-color1: white;\n",
       "                    --jp-layout-color2: #454545;\n",
       "                    background-color: #383838;\n",
       "                }\n",
       "                    \n",
       "                .geemap-dark .jupyter-button {\n",
       "                    --jp-layout-color3: #383838;\n",
       "                }\n",
       "                \n",
       "                .geemap-colab {\n",
       "                    background-color: var(--colab-primary-surface-color, white);\n",
       "                }\n",
       "                    \n",
       "                .geemap-colab .jupyter-button {\n",
       "                    --jp-layout-color3: var(--colab-primary-surface-color, white);\n",
       "                }\n",
       "            </style>\n",
       "            "
      ],
      "text/plain": [
       "<IPython.core.display.HTML object>"
      ]
     },
     "metadata": {},
     "output_type": "display_data"
    }
   ],
   "source": [
    "# # Filter data for Early Season (3-5), Mid-Season (5-7), Late Season (7-9), and Full Season (3-9)\n",
    "# early_season_data = training_data[training_data['season'] == '3-5']\n",
    "# mid_season_data = training_data[training_data['season'] == '5-7']\n",
    "# late_season_data = training_data[training_data['season'] == '7-9']\n",
    "# full_season_data = training_data[training_data['season'] == '3-9']\n",
    "\n",
    "# # Function to plot data for each season\n",
    "# def plot_landcover_occ_multiple(data, season_name):\n",
    "#     # Kopie der Daten erstellen\n",
    "#     data_plot = data.copy()\n",
    "    \n",
    "#     # Eine neue Spalte 'lc1_grouped' hinzufügen, die nur den ersten Buchstaben von 'lc1' enthält\n",
    "#     data_plot['lc1_grouped'] = data['lc1'].str[0]\n",
    "\n",
    "#     # Mapping von 'lc1_grouped' auf die gewünschte Legende\n",
    "#     legend_mapping = {'A': 'Artificial',\n",
    "#                       'B': 'Cropland',\n",
    "#                       'C': 'Woodland',\n",
    "#                       'D': 'Shrubland',\n",
    "#                       'E': 'Grassland',\n",
    "#                       'F': 'Bare Land',\n",
    "#                       'G': 'Water',\n",
    "#                       'H': 'Wetlands'}\n",
    "\n",
    "#     # Umbenennen der Kategorien in der 'lc1_grouped'-Spalte\n",
    "#     data_plot['lc1_grouped'] = data_plot['lc1_grouped'].map(legend_mapping)\n",
    "\n",
    "#     # Setzen des seaborn-Stils\n",
    "#     sns.set(style=\"whitegrid\")\n",
    "\n",
    "#     # Maximale Anzahl der Beobachtungen für die Einstellung von ylim erhalten\n",
    "#     max_count = data_plot.groupby(['lc1_grouped', 'land_use_classes']).size().max()\n",
    "\n",
    "#     # Gesamtzahl der Zeilen pro Abdeckungsklasse berechnen\n",
    "#     total_per_class = data_plot['lc1_grouped'].value_counts()\n",
    "\n",
    "#     # Erstellen eines Facettenrasters mit seaborn\n",
    "#     g = sns.FacetGrid(data_plot, col=\"lc1_grouped\", col_wrap=4, height=3, sharey=False)\n",
    "\n",
    "#     # Zuordnen eines Balkendiagramms für die Anzahl der Beobachtungen pro Klasse, Farbe nach Klasse\n",
    "#     g.map(sns.countplot, \"land_use_classes\", order=sorted(data_plot['land_use_classes'].unique()), palette=\"viridis\", legend=False)\n",
    "\n",
    "#     # Titel und Beschriftungen setzen\n",
    "#     g.set_axis_labels(\"Land Use Classes\", \"Count\")\n",
    "#     g.set_titles(col_template=\"{col_name}\")\n",
    "#     plt.subplots_adjust(top=0.9)\n",
    "\n",
    "#     # Annotieren jedes Subplots mit der Gesamtanzahl der Beobachtungen pro Abdeckungsklasse\n",
    "#     for ax, (cover_class, total_obs) in zip(g.axes.flat, total_per_class.items()):\n",
    "#         ax.text(0.5, 1.1, f'n={total_obs}', transform=ax.transAxes, ha='center', va='baseline')\n",
    "\n",
    "#     # Plot anzeigen\n",
    "#     plt.suptitle(f\"Number of Observations per Land Use Class {season_name}\", fontsize=16, y=1.02)\n",
    "#     plt.show()\n",
    "\n",
    "# # Plot für Alles\n",
    "# plot_landcover_occ_multiple(training_data, \"All Seasons Combined\")\n",
    "\n",
    "# # Plot for Early Season (3-5)\n",
    "# plot_landcover_occ_multiple(early_season_data, \"Early Season\")\n",
    "\n",
    "# # Plot for Mid-Season (5-7)\n",
    "# plot_landcover_occ_multiple(mid_season_data, \"Mid-Season\")\n",
    "\n",
    "# # Plot for Late Season (7-9)\n",
    "# plot_landcover_occ_multiple(late_season_data, \"Late Season\")\n",
    "\n",
    "# # Plot for Full-Season (3-9)\n",
    "# plot_landcover_occ_multiple(full_season_data, f\"(Full-Season) ({max_subset_size} s_size)\")\n"
   ]
  },
  {
   "attachments": {},
   "cell_type": "markdown",
   "metadata": {},
   "source": [
    "## ML Model Setup"
   ]
  },
  {
   "attachments": {},
   "cell_type": "markdown",
   "metadata": {},
   "source": [
    "### Setting up Caching of optimal model outputs"
   ]
  },
  {
   "cell_type": "code",
   "execution_count": 14,
   "metadata": {},
   "outputs": [
    {
     "data": {
      "text/html": [
       "\n",
       "            <style>\n",
       "                .geemap-dark {\n",
       "                    --jp-widgets-color: white;\n",
       "                    --jp-widgets-label-color: white;\n",
       "                    --jp-ui-font-color1: white;\n",
       "                    --jp-layout-color2: #454545;\n",
       "                    background-color: #383838;\n",
       "                }\n",
       "                    \n",
       "                .geemap-dark .jupyter-button {\n",
       "                    --jp-layout-color3: #383838;\n",
       "                }\n",
       "                \n",
       "                .geemap-colab {\n",
       "                    background-color: var(--colab-primary-surface-color, white);\n",
       "                }\n",
       "                    \n",
       "                .geemap-colab .jupyter-button {\n",
       "                    --jp-layout-color3: var(--colab-primary-surface-color, white);\n",
       "                }\n",
       "            </style>\n",
       "            "
      ],
      "text/plain": [
       "<IPython.core.display.HTML object>"
      ]
     },
     "metadata": {},
     "output_type": "display_data"
    }
   ],
   "source": [
    "# Define the paths for saving and loading the models\n",
    "save_path = workPath + \"/02_Training/ML_caching\"\n",
    "\n",
    "# Construct the model paths with information about season and sample size\n",
    "rf_model_path = os.path.join(save_path, f\"rf_regression_model_{desired_seasons}_{max_subset_size}.pkl\")\n",
    "ee_model_path = os.path.join(save_path, f\"ee_regressor_model_{desired_seasons}_{max_subset_size}.pkl\")\n",
    "#svm_model_path = os.path.join(save_path, f\"svm_regression_model_{desired_seasons}_{max_subset_size}.pkl\")\n",
    "#ee_svm_model_path = os.path.join(save_path, f\"ee_svm_regressor_model_{desired_seasons}_{max_subset_size}.pkl\")\n",
    "\n",
    "# To load the models if they exist:\n",
    "if os.path.exists(rf_model_path):\n",
    "    best_mod = joblib.load(rf_model_path)\n",
    "\n",
    "if os.path.exists(ee_model_path):\n",
    "    ee_regressor = joblib.load(ee_model_path)\n",
    "\n",
    "# if os.path.exists(svm_model_path):\n",
    "#    best_mod_svm = joblib.load(svm_model_path)\n",
    "\n",
    "# if os.path.exists(ee_svm_model_path):\n",
    "#    ee_svm_regressor = joblib.load(ee_svm_model_path)"
   ]
  },
  {
   "attachments": {},
   "cell_type": "markdown",
   "metadata": {},
   "source": [
    "### Cache cleaning\n",
    "\n",
    "set flush_cash = True to clean cache"
   ]
  },
  {
   "cell_type": "code",
   "execution_count": 15,
   "metadata": {},
   "outputs": [
    {
     "data": {
      "text/html": [
       "\n",
       "            <style>\n",
       "                .geemap-dark {\n",
       "                    --jp-widgets-color: white;\n",
       "                    --jp-widgets-label-color: white;\n",
       "                    --jp-ui-font-color1: white;\n",
       "                    --jp-layout-color2: #454545;\n",
       "                    background-color: #383838;\n",
       "                }\n",
       "                    \n",
       "                .geemap-dark .jupyter-button {\n",
       "                    --jp-layout-color3: #383838;\n",
       "                }\n",
       "                \n",
       "                .geemap-colab {\n",
       "                    background-color: var(--colab-primary-surface-color, white);\n",
       "                }\n",
       "                    \n",
       "                .geemap-colab .jupyter-button {\n",
       "                    --jp-layout-color3: var(--colab-primary-surface-color, white);\n",
       "                }\n",
       "            </style>\n",
       "            "
      ],
      "text/plain": [
       "<IPython.core.display.HTML object>"
      ]
     },
     "metadata": {},
     "output_type": "display_data"
    }
   ],
   "source": [
    "flush_cash = False\n",
    "\n",
    "# To flush (delete) the models if needed:\n",
    "if flush_cash:\n",
    "    if os.path.exists(rf_model_path):\n",
    "        os.remove(rf_model_path)\n",
    "    if os.path.exists(ee_model_path):\n",
    "        os.remove(ee_model_path)\n",
    "    # if os.path.exists(svm_model_path):  \n",
    "    #     os.remove(svm_model_path)\n",
    "    # if os.path.exists(ee_svm_model_path):\n",
    "    #     os.remove(ee_svm_model_path)"
   ]
  },
  {
   "attachments": {},
   "cell_type": "markdown",
   "metadata": {},
   "source": [
    "### Prep training and test data"
   ]
  },
  {
   "attachments": {},
   "cell_type": "markdown",
   "metadata": {},
   "source": [
    "In dieser Version des Codes werden die Daten basierend auf den ausgewählten Jahreszeiten (seasons_to_use) gefiltert, und dann werden Trainings- und Testdaten nur aus den gefilterten Daten für diese Jahreszeiten erstellt."
   ]
  },
  {
   "cell_type": "code",
   "execution_count": 16,
   "metadata": {},
   "outputs": [
    {
     "data": {
      "text/html": [
       "\n",
       "            <style>\n",
       "                .geemap-dark {\n",
       "                    --jp-widgets-color: white;\n",
       "                    --jp-widgets-label-color: white;\n",
       "                    --jp-ui-font-color1: white;\n",
       "                    --jp-layout-color2: #454545;\n",
       "                    background-color: #383838;\n",
       "                }\n",
       "                    \n",
       "                .geemap-dark .jupyter-button {\n",
       "                    --jp-layout-color3: #383838;\n",
       "                }\n",
       "                \n",
       "                .geemap-colab {\n",
       "                    background-color: var(--colab-primary-surface-color, white);\n",
       "                }\n",
       "                    \n",
       "                .geemap-colab .jupyter-button {\n",
       "                    --jp-layout-color3: var(--colab-primary-surface-color, white);\n",
       "                }\n",
       "            </style>\n",
       "            "
      ],
      "text/plain": [
       "<IPython.core.display.HTML object>"
      ]
     },
     "metadata": {},
     "output_type": "display_data"
    },
    {
     "name": "stdout",
     "output_type": "stream",
     "text": [
      "Shape of the training set: (68851, 128)\n",
      "Shape of the test set: (29509, 128)\n",
      "Encoded classes: ['active' 'fallow']\n",
      "Class distribution in initial training data:\n",
      "land_use_classes\n",
      "active    93.349939\n",
      "fallow     6.650061\n",
      "Name: count, dtype: float64\n",
      "Class distribution in training set:\n",
      "0    64273\n",
      "1     4578\n",
      "Name: count, dtype: int64\n",
      "0    93.350859\n",
      "1     6.649141\n",
      "Name: count, dtype: float64\n",
      "\n",
      "Class distribution in test set:\n",
      "0    27546\n",
      "1     1963\n",
      "Name: count, dtype: int64\n",
      "0    93.347792\n",
      "1     6.652208\n",
      "Name: count, dtype: float64\n"
     ]
    }
   ],
   "source": [
    "from sklearn.preprocessing import StandardScaler, LabelEncoder\n",
    "from sklearn.model_selection import train_test_split\n",
    "\n",
    "\n",
    "# Dictionary to store data for each class\n",
    "class_data = {}\n",
    "\n",
    "# Separate data based on classes\n",
    "for class_label in np.unique(training_data['land_use_classes']):\n",
    "    class_data[class_label] = training_data[training_data['land_use_classes'] == class_label]\n",
    "\n",
    "# Initialize empty lists for train and test data\n",
    "X_train_list, X_test_list, y_train_list, y_test_list = [], [], [], []\n",
    "\n",
    "# Percentage split for training and test data\n",
    "train_percentage = 0.7  # 70% for training, adjust as needed\n",
    "\n",
    "# Split each class into training and test sets for the selected seasons\n",
    "for class_label, class_df in class_data.items():\n",
    "    # Filter data for the selected seasons\n",
    "    class_df_seasons = class_df[class_df['season'].isin(desired_seasons)]\n",
    "    \n",
    "    # Separate features and target\n",
    "    X_class = class_df_seasons.drop(['DEM', 'id', 'lc1', 'lu1_label', 'point_id', 'point_id', 'year', 'land_use_classes', 'season'], axis=1)\n",
    "    X_class = X_class.loc[:, ~X_class.columns.str.contains('bio')]\n",
    "    y_class = class_df_seasons['land_use_classes']\n",
    "    \n",
    "    # Split class data into training and test sets\n",
    "    X_class_train, X_class_test, y_class_train, y_class_test = train_test_split(\n",
    "        X_class, y_class, test_size=1 - train_percentage, stratify=y_class, random_state=42\n",
    "    )\n",
    "\n",
    "    # Append the class data to the overall lists\n",
    "    X_train_list.append(X_class_train)\n",
    "    X_test_list.append(X_class_test)\n",
    "    y_train_list.append(y_class_train)\n",
    "    y_test_list.append(y_class_test)\n",
    "\n",
    "# Concatenate data from all classes to create final training and test sets\n",
    "X_train = pd.concat(X_train_list)\n",
    "X_test = pd.concat(X_test_list)\n",
    "y_train = pd.concat(y_train_list)\n",
    "y_test = pd.concat(y_test_list)\n",
    "\n",
    "# Shuffle the data (optional)\n",
    "shuffle_index_train = np.random.permutation(len(X_train))\n",
    "shuffle_index_test = np.random.permutation(len(X_test))\n",
    "\n",
    "X_train, y_train = X_train.iloc[shuffle_index_train], y_train.iloc[shuffle_index_train]\n",
    "X_test, y_test = X_test.iloc[shuffle_index_test], y_test.iloc[shuffle_index_test]\n",
    "\n",
    "# Check the shape of the training set\n",
    "print(\"Shape of the training set:\", X_train.shape)\n",
    "# Check the shape of the test set\n",
    "print(\"Shape of the test set:\", X_test.shape)\n",
    "\n",
    "# Label encoding for y_train and y_test\n",
    "label_encoder = LabelEncoder()\n",
    "y_train = label_encoder.fit_transform(y_train)\n",
    "y_test = label_encoder.transform(y_test)\n",
    "\n",
    "# Check the unique encoded values\n",
    "encoded_classes = label_encoder.classes_\n",
    "print(\"Encoded classes:\", encoded_classes)\n",
    "\n",
    "\n",
    "# Calculate the total number of samples in the training and test sets\n",
    "total_samples_initial = len(training_data)\n",
    "total_samples_train = len(y_train)\n",
    "total_samples_test = len(y_test)\n",
    "\n",
    "# Print class distribution in the initial training data as percent\n",
    "print(\"Class distribution in initial training data:\")\n",
    "print((training_data['land_use_classes'].value_counts() / total_samples_initial) * 100)\n",
    "\n",
    "# Print class distribution in training and test sets\n",
    "print(\"Class distribution in training set:\")\n",
    "print(pd.Series(y_train).value_counts())\n",
    "print((pd.Series(y_train).value_counts() / total_samples_train) * 100)\n",
    "\n",
    "print(\"\\nClass distribution in test set:\")\n",
    "print(pd.Series(y_test).value_counts())\n",
    "print((pd.Series(y_test).value_counts() / total_samples_test) * 100)\n",
    "\n",
    "# Calculate the total number of samples in the training and test sets\n",
    "total_samples_initial = len(training_data)\n",
    "total_samples_train = len(y_train)\n",
    "total_samples_test = len(y_test)\n"
   ]
  },
  {
   "attachments": {},
   "cell_type": "markdown",
   "metadata": {},
   "source": [
    "## Model Training"
   ]
  },
  {
   "attachments": {},
   "cell_type": "markdown",
   "metadata": {},
   "source": [
    "## Random Forest"
   ]
  },
  {
   "cell_type": "code",
   "execution_count": 17,
   "metadata": {},
   "outputs": [
    {
     "data": {
      "text/html": [
       "\n",
       "            <style>\n",
       "                .geemap-dark {\n",
       "                    --jp-widgets-color: white;\n",
       "                    --jp-widgets-label-color: white;\n",
       "                    --jp-ui-font-color1: white;\n",
       "                    --jp-layout-color2: #454545;\n",
       "                    background-color: #383838;\n",
       "                }\n",
       "                    \n",
       "                .geemap-dark .jupyter-button {\n",
       "                    --jp-layout-color3: #383838;\n",
       "                }\n",
       "                \n",
       "                .geemap-colab {\n",
       "                    background-color: var(--colab-primary-surface-color, white);\n",
       "                }\n",
       "                    \n",
       "                .geemap-colab .jupyter-button {\n",
       "                    --jp-layout-color3: var(--colab-primary-surface-color, white);\n",
       "                }\n",
       "            </style>\n",
       "            "
      ],
      "text/plain": [
       "<IPython.core.display.HTML object>"
      ]
     },
     "metadata": {},
     "output_type": "display_data"
    },
    {
     "name": "stdout",
     "output_type": "stream",
     "text": [
      "Fitting 5 folds for each of 5 candidates, totalling 25 fits\n",
      "Best Parameters: {'criterion': 'entropy', 'max_depth': 80, 'max_features': 24, 'min_samples_leaf': 7, 'min_samples_split': 47, 'n_estimators': 30}\n",
      "Test Set Score: 0.9206682706970755\n"
     ]
    },
    {
     "data": {
      "text/plain": [
       "[\"E:/MAP_git/02_Training/ML_caching\\\\rf_regression_model_['3-9']_100000.pkl\"]"
      ]
     },
     "execution_count": 17,
     "metadata": {},
     "output_type": "execute_result"
    }
   ],
   "source": [
    "\n",
    "# Create a classifier instance\n",
    "RF = RandomForestClassifier(class_weight='balanced', random_state=42) # balanced\n",
    "param_grid = {\n",
    "    'max_depth':list(np.arange(10, 100, step=10)) + [None],\n",
    "            'n_estimators':np.arange(10, 60, step=5),\n",
    "            'max_features':randint(1,80),\n",
    "            'criterion':['gini','entropy'],\n",
    "            'min_samples_leaf':randint(5,80),\n",
    "            'min_samples_split':np.arange(5, 80, step=2)\n",
    "        }\n",
    "\n",
    "\n",
    "RF_cv = RandomizedSearchCV(RF, \n",
    "                            param_distributions=param_grid, \n",
    "                            n_iter=5, \n",
    "                            cv=StratifiedKFold(n_splits=5, shuffle=True, random_state=42),  \n",
    "                            n_jobs= -1, \n",
    "                            random_state=42, \n",
    "                            scoring='f1', # Wenn das Hauptziel darin besteht, das Ungleichgewicht der Klassen zu berücksichtigen, könnten Metriken wie Precision, Recall oder F1-Score relevanter sein als die Accuracy.\n",
    "                            verbose=3)\n",
    "\n",
    "# Fit the RandomizedSearchCV to your data\n",
    "RF_cv.fit(X_train, y_train)\n",
    "\n",
    "# Get the best parameters\n",
    "best_params = RF_cv.best_params_\n",
    "\n",
    "# Create the best model with the best parameters\n",
    "best_mod = RandomForestClassifier(class_weight='balanced', random_state=42, **best_params)\n",
    "best_mod.fit(X_train, y_train)\n",
    "\n",
    "# Optionally, evaluate the best model on the test set\n",
    "test_score = best_mod.score(X_test, y_test)\n",
    "\n",
    "# Print the best parameters and test score\n",
    "print(\"Best Parameters:\", best_params)\n",
    "print(\"Test Set Score:\", test_score)\n",
    "\n",
    "# Save the RandomForestrf model as a pickle\n",
    "joblib.dump(best_mod, rf_model_path)"
   ]
  },
  {
   "attachments": {},
   "cell_type": "markdown",
   "metadata": {},
   "source": [
    "### Konvertierung in Earth-Engine Format und speicherung als Pickle"
   ]
  },
  {
   "cell_type": "code",
   "execution_count": 18,
   "metadata": {},
   "outputs": [
    {
     "data": {
      "text/html": [
       "\n",
       "            <style>\n",
       "                .geemap-dark {\n",
       "                    --jp-widgets-color: white;\n",
       "                    --jp-widgets-label-color: white;\n",
       "                    --jp-ui-font-color1: white;\n",
       "                    --jp-layout-color2: #454545;\n",
       "                    background-color: #383838;\n",
       "                }\n",
       "                    \n",
       "                .geemap-dark .jupyter-button {\n",
       "                    --jp-layout-color3: #383838;\n",
       "                }\n",
       "                \n",
       "                .geemap-colab {\n",
       "                    background-color: var(--colab-primary-surface-color, white);\n",
       "                }\n",
       "                    \n",
       "                .geemap-colab .jupyter-button {\n",
       "                    --jp-layout-color3: var(--colab-primary-surface-color, white);\n",
       "                }\n",
       "            </style>\n",
       "            "
      ],
      "text/plain": [
       "<IPython.core.display.HTML object>"
      ]
     },
     "metadata": {},
     "output_type": "display_data"
    }
   ],
   "source": [
    "\n",
    "# from geemap import ml\n",
    "# # Get the feature names\n",
    "# feature_names = X_class.columns.tolist()\n",
    "# # Convert the model to a string representation\n",
    "# best_mod_str = ml.rf_to_strings(best_mod, feature_names, output_mode=\"CLASSIFICATION\", processes =8)\n",
    "# # Convert the string representation back to a classifier\n",
    "# ee_rf = ml.strings_to_classifier(best_mod_str)\n",
    "\n",
    "# # Save the Earth Engine RandomForestrf model as a pickle\n",
    "# joblib.dump(ee_rf, ee_model_path)\n",
    "\n",
    "# ee_rf\n",
    "\n",
    "# file_size = os.path.getsize(ee_model_path) / (1024 * 1024)\n",
    "# print(f\"The file size of {ee_model_path} \\n is {file_size} MB.\")\n"
   ]
  },
  {
   "attachments": {},
   "cell_type": "markdown",
   "metadata": {},
   "source": [
    "## Metrics"
   ]
  },
  {
   "cell_type": "markdown",
   "metadata": {},
   "source": [
    "### Performance Metriken und Konfusionsmatrixen für Training und Testdaten"
   ]
  },
  {
   "cell_type": "code",
   "execution_count": 94,
   "metadata": {},
   "outputs": [
    {
     "data": {
      "text/html": [
       "\n",
       "            <style>\n",
       "                .geemap-dark {\n",
       "                    --jp-widgets-color: white;\n",
       "                    --jp-widgets-label-color: white;\n",
       "                    --jp-ui-font-color1: white;\n",
       "                    --jp-layout-color2: #454545;\n",
       "                    background-color: #383838;\n",
       "                }\n",
       "                    \n",
       "                .geemap-dark .jupyter-button {\n",
       "                    --jp-layout-color3: #383838;\n",
       "                }\n",
       "                \n",
       "                .geemap-colab {\n",
       "                    background-color: var(--colab-primary-surface-color, white);\n",
       "                }\n",
       "                    \n",
       "                .geemap-colab .jupyter-button {\n",
       "                    --jp-layout-color3: var(--colab-primary-surface-color, white);\n",
       "                }\n",
       "            </style>\n",
       "            "
      ],
      "text/plain": [
       "<IPython.core.display.HTML object>"
      ]
     },
     "metadata": {},
     "output_type": "display_data"
    },
    {
     "name": "stdout",
     "output_type": "stream",
     "text": [
      "Training Set Metrics:\n",
      "Accuracy: 0.9726\n",
      "Precision: 0.9772\n",
      "Recall: 0.9726\n",
      "F1 Score: 0.9741\n",
      "\n",
      "Testing Set Metrics:\n",
      "Accuracy: 0.9207\n",
      "Precision: 0.9149\n",
      "Recall: 0.9207\n",
      "F1 Score: 0.9176\n"
     ]
    },
    {
     "data": {
      "image/png": "[encoded data removed]",
      "text/plain": [
       "<Figure size 1500x1000 with 4 Axes>"
      ]
     },
     "metadata": {},
     "output_type": "display_data"
    }
   ],
   "source": [
    "import seaborn as sns\n",
    "import matplotlib.pyplot as plt\n",
    "from sklearn.metrics import confusion_matrix, accuracy_score, precision_score, recall_score, f1_score, classification_report\n",
    "\n",
    "# Set the style of seaborn\n",
    "sns.set(style=\"whitegrid\")\n",
    "\n",
    "# Load the best model\n",
    "best_mod = joblib.load(rf_model_path)\n",
    "\n",
    "# Make predictions\n",
    "y_train_pred = best_mod.predict(X_train)\n",
    "y_test_pred = best_mod.predict(X_test)\n",
    "\n",
    "# Get unique class labels\n",
    "class_labels = sorted(set(y_train))\n",
    "\n",
    "# Evaluate on training set\n",
    "accuracy_train = accuracy_score(y_train, y_train_pred)\n",
    "precision_train = precision_score(y_train, y_train_pred, average='weighted')\n",
    "recall_train = recall_score(y_train, y_train_pred, average='weighted')\n",
    "f1_train = f1_score(y_train, y_train_pred, average='weighted')\n",
    "\n",
    "# Evaluate on testing set\n",
    "accuracy_test = accuracy_score(y_test, y_test_pred)\n",
    "precision_test = precision_score(y_test, y_test_pred, average='weighted')\n",
    "recall_test = recall_score(y_test, y_test_pred, average='weighted')\n",
    "f1_test = f1_score(y_test, y_test_pred, average='weighted')\n",
    "\n",
    "# Print metrics\n",
    "print(\"Training Set Metrics:\")\n",
    "print(\"Accuracy: {:.4f}\".format(accuracy_train))\n",
    "print(\"Precision: {:.4f}\".format(precision_train))\n",
    "print(\"Recall: {:.4f}\".format(recall_train))\n",
    "print(\"F1 Score: {:.4f}\".format(f1_train))\n",
    "\n",
    "print(\"\\nTesting Set Metrics:\")\n",
    "print(\"Accuracy: {:.4f}\".format(accuracy_test))\n",
    "print(\"Precision: {:.4f}\".format(precision_test))\n",
    "print(\"Recall: {:.4f}\".format(recall_test))\n",
    "print(\"F1 Score: {:.4f}\".format(f1_test))\n",
    "\n",
    "# Calculate confusion matrices\n",
    "conf_matrix_train = confusion_matrix(y_train, y_train_pred, labels=class_labels)\n",
    "conf_matrix_test = confusion_matrix(y_test, y_test_pred, labels=class_labels)\n",
    "\n",
    "# Normalize the confusion matrices\n",
    "conf_matrix_train_normalized = conf_matrix_train.astype('float') / conf_matrix_train.sum(axis=1)[:, np.newaxis]\n",
    "conf_matrix_test_normalized = conf_matrix_test.astype('float') / conf_matrix_test.sum(axis=1)[:, np.newaxis]\n",
    "\n",
    "# Plotting the confusion matrices\n",
    "fig, axes = plt.subplots(2, 2, figsize=(15, 10))\n",
    "\n",
    "# Training set confusion matrix\n",
    "sns.heatmap(conf_matrix_train, annot=True, fmt=\"d\", cmap=\"Blues\", cbar=False, annot_kws={\"size\": 18},\n",
    "            xticklabels=[\"active\", \"fallow\"], yticklabels=[\"active\", \"fallow\"], ax=axes[0, 0])\n",
    "axes[0, 0].set_title(\"Confusion Matrix - Training Set\")\n",
    "\n",
    "# Training set normalized confusion matrix\n",
    "sns.heatmap(conf_matrix_train_normalized, annot=True, fmt=\".2f\", cmap=\"viridis\", cbar=False, annot_kws={\"size\": 18},\n",
    "            xticklabels=[\"active\", \"fallow\"], yticklabels=[\"active\", \"fallow\"], ax=axes[1, 0])\n",
    "axes[1, 0].set_title(\"Normalized Confusion Matrix - Training Set\")\n",
    "\n",
    "# Testing set confusion matrix\n",
    "sns.heatmap(conf_matrix_test, annot=True, fmt=\"d\", cmap=\"Blues\", cbar=False, annot_kws={\"size\": 18},\n",
    "            xticklabels=[\"active\", \"fallow\"], yticklabels=[\"active\", \"fallow\"], ax=axes[0, 1])\n",
    "axes[0, 1].set_title(\"Confusion Matrix - Testing Set\")\n",
    "\n",
    "# Testing set normalized confusion matrix\n",
    "sns.heatmap(conf_matrix_test_normalized, annot=True, fmt=\".2f\", cmap=\"viridis\", cbar=False, annot_kws={\"size\": 18},\n",
    "            xticklabels=[\"active\", \"fallow\"], yticklabels=[\"active\", \"fallow\"], ax=axes[1, 1])\n",
    "axes[1, 1].set_title(\"Normalized Confusion Matrix - Testing Set\")\n",
    "\n",
    "# Add metrics to the plots\n",
    "axes[0, 0].text(0, -0.3, f\"Accuracy: {accuracy_train:.2f} | Precision: {precision_train:.2f} | Recall: {recall_train:.2f} | F1 Score: {f1_train:.2f}\", ha='left', fontsize=14, fontdict={'weight': 'bold'})\n",
    "axes[0, 1].text(0, -0.3, f\"Accuracy: {accuracy_test:.2f} | Precision: {precision_test:.2f} | Recall: {recall_test:.2f} | F1 Score: {f1_test:.2f}\", ha='left', fontsize=14, fontdict={'weight': 'bold'})\n",
    "\n",
    "# Add a title\n",
    "#plt.suptitle(\"Exemplary Performance Metrics of the Random Forest Classifier (Full Season with n=100,000 )\", fontsize=20, y=1, fontdict={'weight': 'bold'})\n",
    "\n",
    "plt.tight_layout()\n",
    "plt.show()\n"
   ]
  },
  {
   "cell_type": "markdown",
   "metadata": {},
   "source": [
    "### Feature Importance Plot"
   ]
  },
  {
   "cell_type": "code",
   "execution_count": 72,
   "metadata": {},
   "outputs": [
    {
     "data": {
      "text/html": [
       "\n",
       "            <style>\n",
       "                .geemap-dark {\n",
       "                    --jp-widgets-color: white;\n",
       "                    --jp-widgets-label-color: white;\n",
       "                    --jp-ui-font-color1: white;\n",
       "                    --jp-layout-color2: #454545;\n",
       "                    background-color: #383838;\n",
       "                }\n",
       "                    \n",
       "                .geemap-dark .jupyter-button {\n",
       "                    --jp-layout-color3: #383838;\n",
       "                }\n",
       "                \n",
       "                .geemap-colab {\n",
       "                    background-color: var(--colab-primary-surface-color, white);\n",
       "                }\n",
       "                    \n",
       "                .geemap-colab .jupyter-button {\n",
       "                    --jp-layout-color3: var(--colab-primary-surface-color, white);\n",
       "                }\n",
       "            </style>\n",
       "            "
      ],
      "text/plain": [
       "<IPython.core.display.HTML object>"
      ]
     },
     "metadata": {},
     "output_type": "display_data"
    },
    {
     "data": {
      "image/png": "[encoded data removed]",
      "text/plain": [
       "<Figure size 1000x600 with 1 Axes>"
      ]
     },
     "metadata": {},
     "output_type": "display_data"
    }
   ],
   "source": [
    "# Anzahl der Top-Merkmale, die im Plot angezeigt werden sollen\n",
    "top_n_features = 20\n",
    "\n",
    "# Extrahiere die Feature-Importance-Werte aus dem trainierten Random Forest-Modell\n",
    "feature_importance = best_mod.feature_importances_\n",
    "\n",
    "# Extrahiere die Namen der Merkmale\n",
    "feature_names = X_train.columns\n",
    "\n",
    "# Sortiere die Feature-Importance-Werte und die entsprechenden Merkmalsnamen absteigend nach ihrer Wichtigkeit\n",
    "sorted_idx = feature_importance.argsort()[::-1][:top_n_features]\n",
    "sorted_feature_importance = feature_importance[sorted_idx]\n",
    "sorted_feature_names = feature_names[sorted_idx]\n",
    "\n",
    "# Plotte die Feature-Importance-Werte\n",
    "plt.figure(figsize=(10, 6))\n",
    "bars = plt.barh(range(len(sorted_feature_importance)), sorted_feature_importance, align='center', color='orange')\n",
    "plt.yticks(range(len(sorted_feature_importance)), sorted_feature_names)\n",
    "plt.xlabel('Feature Importance')\n",
    "plt.ylabel('Features')\n",
    "plt.title('Top {} Predictors sorted after their Predictive Importance'.format(top_n_features))\n",
    "plt.gca().invert_yaxis()  # Invertiere die Achse, damit das wichtigste Merkmal oben ist\n",
    "plt.tight_layout()\n",
    "plt.gca().invert_xaxis()  # Invertiere die x-Achse, um die wichtigen Merkmale rechts zu platzieren\n",
    "plt.gca().invert_yaxis()  # Invertiere die y-Achse zurück\n",
    "plt.show()\n"
   ]
  },
  {
   "cell_type": "markdown",
   "metadata": {},
   "source": [
    "### ROC Kurve"
   ]
  },
  {
   "cell_type": "code",
   "execution_count": 73,
   "metadata": {},
   "outputs": [
    {
     "data": {
      "text/html": [
       "\n",
       "            <style>\n",
       "                .geemap-dark {\n",
       "                    --jp-widgets-color: white;\n",
       "                    --jp-widgets-label-color: white;\n",
       "                    --jp-ui-font-color1: white;\n",
       "                    --jp-layout-color2: #454545;\n",
       "                    background-color: #383838;\n",
       "                }\n",
       "                    \n",
       "                .geemap-dark .jupyter-button {\n",
       "                    --jp-layout-color3: #383838;\n",
       "                }\n",
       "                \n",
       "                .geemap-colab {\n",
       "                    background-color: var(--colab-primary-surface-color, white);\n",
       "                }\n",
       "                    \n",
       "                .geemap-colab .jupyter-button {\n",
       "                    --jp-layout-color3: var(--colab-primary-surface-color, white);\n",
       "                }\n",
       "            </style>\n",
       "            "
      ],
      "text/plain": [
       "<IPython.core.display.HTML object>"
      ]
     },
     "metadata": {},
     "output_type": "display_data"
    },
    {
     "data": {
      "image/png": "[encoded data removed]",
      "text/plain": [
       "<Figure size 800x600 with 1 Axes>"
      ]
     },
     "metadata": {},
     "output_type": "display_data"
    }
   ],
   "source": [
    "# Calculate the predicted probabilities for class 1 (fallow)\n",
    "y_test_prob = best_mod.predict_proba(X_test)[:, 1]\n",
    "\n",
    "# Calculate the ROC curve\n",
    "fpr, tpr, thresholds = roc_curve(y_test, y_test_prob)\n",
    "\n",
    "# Calculate the AUC score\n",
    "auc_score = roc_auc_score(y_test, y_test_prob)\n",
    "\n",
    "# Plot the ROC curve\n",
    "plt.figure(figsize=(8, 6))\n",
    "plt.plot(fpr, tpr, color='blue', lw=2, label='ROC curve (AUC = {:.2f})'.format(auc_score))\n",
    "plt.plot([0, 1], [0, 1], color='gray', lw=1, linestyle='--')\n",
    "plt.xlim([0.0, 1.0])\n",
    "plt.ylim([0.0, 1.05])\n",
    "plt.xlabel('False Positive Rate')\n",
    "plt.ylabel('True Positive Rate')\n",
    "plt.title('Receiver Operating Characteristic (ROC) Curve')\n",
    "plt.legend(loc='lower right')\n",
    "plt.grid(True)\n",
    "plt.show()\n"
   ]
  },
  {
   "cell_type": "markdown",
   "metadata": {},
   "source": [
    "## Spatialize Prediction in GEE"
   ]
  },
  {
   "cell_type": "markdown",
   "metadata": {},
   "source": [
    "WIP"
   ]
  }
 ],
 "metadata": {
  "kernelspec": {
   "display_name": "wilde",
   "language": "python",
   "name": "python3"
  },
  "language_info": {
   "codemirror_mode": {
    "name": "ipython",
    "version": 3
   },
   "file_extension": ".py",
   "mimetype": "text/x-python",
   "name": "python",
   "nbconvert_exporter": "python",
   "pygments_lexer": "ipython3",
   "version": "3.11.7"
  }
 },
 "nbformat": 4,
 "nbformat_minor": 2
}
